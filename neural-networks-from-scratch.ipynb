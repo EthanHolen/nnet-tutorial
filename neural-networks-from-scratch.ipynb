{
 "cells": [
  {
   "cell_type": "markdown",
   "metadata": {},
   "source": [
    "# Neural Networks From Scratch\n",
    "\n",
    "[YOUTUBE Playlist](https://www.youtube.com/playlist?list=PLQVvvaa0QuDcjD5BAw2DxE6OF2tius3V3)\n"
   ]
  },
  {
   "cell_type": "markdown",
   "metadata": {},
   "source": [
    "purpouse of ML: Take inputs and produce desired outputs\n",
    "\n",
    "> Ex. in: Pictures of cats and dogs, out: ID of cat or dog\n",
    "\n",
    "Using a massive amount of weights and biases and tuning them to get our correct outputs\n"
   ]
  },
  {
   "cell_type": "code",
   "execution_count": 1,
   "metadata": {},
   "outputs": [],
   "source": [
    "# imports\n",
    "import sys\n",
    "import numpy as np\n",
    "import matplotlib.pyplot as plt\n",
    "import nnfs\n",
    "import math\n",
    "\n",
    "# image preview import\n",
    "from IPython.display import Image\n"
   ]
  },
  {
   "cell_type": "markdown",
   "metadata": {},
   "source": [
    "## Video 1\n",
    "\n",
    "### Creating a neuron\n",
    "\n",
    "- Each neuron has a unique connection to every neuron before it\n",
    "  - those are all providing inputs, so thats the first thing we need\n",
    "  - they also each have a weight thats coming as input\n",
    "- Each neuron also has a bias\n"
   ]
  },
  {
   "cell_type": "code",
   "execution_count": 2,
   "metadata": {},
   "outputs": [
    {
     "data": {
      "text/plain": [
       "35.7"
      ]
     },
     "execution_count": 2,
     "metadata": {},
     "output_type": "execute_result"
    }
   ],
   "source": [
    "inputs = [1.2, 5.1, 2.1]  # the inputs from three neurons in the previous layer\n",
    "# the weights from three neurons in the previous layer\n",
    "weights = [3.1, 2.1, 8.7]\n",
    "bias = 3  # the bias of our current neuron\n",
    "\n",
    "output = inputs[0] * weights[0] + inputs[1] * \\\n",
    "    weights[1] + inputs[2] * weights[2] + bias\n",
    "\n",
    "output\n"
   ]
  },
  {
   "cell_type": "markdown",
   "metadata": {},
   "source": [
    "## Video 2\n",
    "\n",
    "###\n"
   ]
  },
  {
   "cell_type": "code",
   "execution_count": 3,
   "metadata": {},
   "outputs": [
    {
     "data": {
      "text/plain": [
       "2.3"
      ]
     },
     "execution_count": 3,
     "metadata": {},
     "output_type": "execute_result"
    }
   ],
   "source": [
    "# Renaming the values to be the ones in the book\n",
    "\n",
    "inputs = [1, 2, 3]  # the inputs from three neurons in the previous layer\n",
    "# the weights from three neurons in the previous layer\n",
    "weights = [0.2, 0.8, -0.5]\n",
    "bias = 2  # the bias of our current neuron\n",
    "\n",
    "output = inputs[0] * weights[0] + inputs[1] * \\\n",
    "    weights[1] + inputs[2] * weights[2] + bias\n",
    "\n",
    "output\n"
   ]
  },
  {
   "cell_type": "markdown",
   "metadata": {},
   "source": [
    "Each of the neurons in the network has inputs weights and a specific bias as shown below\n"
   ]
  },
  {
   "cell_type": "code",
   "execution_count": 4,
   "metadata": {},
   "outputs": [
    {
     "data": {
      "text/html": [
       "<img src=\"./Screen Shot 2022-09-06 at 5.30.43 PM.png\" width=\"300\" height=\"300\"/>"
      ],
      "text/plain": [
       "<IPython.core.display.Image object>"
      ]
     },
     "execution_count": 4,
     "metadata": {},
     "output_type": "execute_result"
    }
   ],
   "source": [
    "Image(url=\"./Screen Shot 2022-09-06 at 5.30.43 PM.png\", width=300, height=300)\n"
   ]
  },
  {
   "cell_type": "code",
   "execution_count": 5,
   "metadata": {},
   "outputs": [
    {
     "data": {
      "text/plain": [
       "4.8"
      ]
     },
     "execution_count": 5,
     "metadata": {},
     "output_type": "execute_result"
    }
   ],
   "source": [
    "# adding a new input\n",
    "inputs = [1, 2, 3, 2.5]\n",
    "# and weight\n",
    "weights = [0.2, 0.8, -0.5, 1.0]\n",
    "\n",
    "\n",
    "# then recalculating with the new inputs\n",
    "output = inputs[0] * weights[0] + inputs[1] * weights[1] + \\\n",
    "    inputs[2] * weights[2] + inputs[3] * weights[3] + bias\n",
    "\n",
    "output\n"
   ]
  },
  {
   "cell_type": "markdown",
   "metadata": {},
   "source": [
    "Ok thats great but what if we want to add even more neurons to the mix...\n",
    "\n",
    "well make a network with four inputs and three outputs, (imaged below)\n",
    "\n",
    "we already have our 4 inputs but we need more weights and biases so lets make some\n"
   ]
  },
  {
   "cell_type": "code",
   "execution_count": 6,
   "metadata": {},
   "outputs": [
    {
     "data": {
      "text/html": [
       "<img src=\"./Screen Shot 2022-09-06 at 6.55.24 PM.png\" width=\"300\" height=\"300\"/>"
      ],
      "text/plain": [
       "<IPython.core.display.Image object>"
      ]
     },
     "execution_count": 6,
     "metadata": {},
     "output_type": "execute_result"
    }
   ],
   "source": [
    "Image(url=\"./Screen Shot 2022-09-06 at 6.55.24 PM.png\", width=300, height=300)\n"
   ]
  },
  {
   "cell_type": "code",
   "execution_count": 7,
   "metadata": {},
   "outputs": [],
   "source": [
    "# redefine inputs\n",
    "inputs = [1, 2, 3, 2.5]\n",
    "\n",
    "\n",
    "# weights\n",
    "weights1 = [0.2, 0.8, -0.5, 1.0]\n",
    "weights2 = [0.5, -0.91, 0.26, -0.5]\n",
    "weights3 = [-0.26, -0.27, 0.17, 0.87]\n",
    "\n",
    "\n",
    "# biases\n",
    "bias1 = 2\n",
    "bias2 = 3\n",
    "bias3 = 0.5\n"
   ]
  },
  {
   "cell_type": "markdown",
   "metadata": {},
   "source": [
    "ok thats cool for the inputs to the neuron\n",
    "\n",
    "but now we need the output for the neurons, and since we have three neurons on the output layer we will be outputting 3 values\n",
    "\n",
    "so lets calculate the output...\n"
   ]
  },
  {
   "cell_type": "code",
   "execution_count": 8,
   "metadata": {},
   "outputs": [
    {
     "data": {
      "text/plain": [
       "[4.8, 1.21, 2.385]"
      ]
     },
     "execution_count": 8,
     "metadata": {},
     "output_type": "execute_result"
    }
   ],
   "source": [
    "output = [inputs[0] * weights1[0] + inputs[1] * weights1[1] + inputs[2] * weights1[2] + inputs[3] * weights1[3] + bias1,\n",
    "          inputs[0] * weights2[0] + inputs[1] * weights2[1] +\n",
    "          inputs[2] * weights2[2] + inputs[3] * weights2[3] + bias2,\n",
    "          inputs[0] * weights3[0] + inputs[1] * weights3[1] + inputs[2] * weights3[2] + inputs[3] * weights3[3] + bias3]\n",
    "\n",
    "output\n"
   ]
  },
  {
   "cell_type": "markdown",
   "metadata": {},
   "source": [
    "Ok awesome we have our three outputs from out three seperate neurons\n"
   ]
  },
  {
   "cell_type": "markdown",
   "metadata": {},
   "source": [
    "## Video 3\n",
    "\n",
    "Ok so now we simplify bc this is getting out of hand\n"
   ]
  },
  {
   "cell_type": "code",
   "execution_count": 9,
   "metadata": {},
   "outputs": [],
   "source": [
    "# convert to one 2d array for weights\n",
    "weights = [[0.2, 0.8, -0.5, 1.0],\n",
    "           [0.5, -0.91, 0.26, -0.5],\n",
    "           [-0.26, -0.27, 0.17, 0.87]]\n",
    "\n",
    "# convert biases to an array\n",
    "biases = [2, 3, 0.5]\n"
   ]
  },
  {
   "cell_type": "markdown",
   "metadata": {},
   "source": [
    "And then we will make a better way to loop through all of those elements\n"
   ]
  },
  {
   "cell_type": "code",
   "execution_count": 10,
   "metadata": {},
   "outputs": [
    {
     "data": {
      "text/plain": [
       "[4.8, 1.21, 2.385]"
      ]
     },
     "execution_count": 10,
     "metadata": {},
     "output_type": "execute_result"
    }
   ],
   "source": [
    "layer_outputs = []  # output of current layer\n",
    "for neuron_weights, neuron_bias in zip(weights, biases):\n",
    "    neuron_output = 0  # output of given neuron\n",
    "    for n_input, weight in zip(inputs, neuron_weights):\n",
    "        neuron_output += n_input*weight\n",
    "    neuron_output += neuron_bias\n",
    "    layer_outputs.append(neuron_output)\n",
    "\n",
    "layer_outputs\n"
   ]
  },
  {
   "cell_type": "markdown",
   "metadata": {},
   "source": [
    "Hurray we got the same output, much cleaner too!\n",
    "\n",
    "ok now we will look at shape\n",
    "\n",
    "the shape of an array is the (# rows, # columns)\n",
    "\n",
    "the more dimensions, the more numbers get added to the front\n"
   ]
  },
  {
   "cell_type": "code",
   "execution_count": 11,
   "metadata": {},
   "outputs": [],
   "source": [
    "# the size of a is a 2 by 3 matrix or (2,3)\n",
    "\n",
    "a = [[1, 2, 3],\n",
    "     [4, 5, 6]]\n",
    "\n",
    "\n",
    "# the size of b is (3,2,3)\n",
    "# each number being the number of objects in that dimension\n",
    "\n",
    "b = [[[1, 2, 3],\n",
    "     [4, 5, 6]],\n",
    "     [[1, 2, 3],\n",
    "     [4, 5, 6]],\n",
    "     [[1, 2, 3],\n",
    "     [4, 5, 6]]]\n"
   ]
  },
  {
   "cell_type": "markdown",
   "metadata": {},
   "source": [
    "the dot product is the elementwise multiplication of two vectors that all gets added together\n"
   ]
  },
  {
   "cell_type": "code",
   "execution_count": 12,
   "metadata": {},
   "outputs": [
    {
     "data": {
      "text/plain": [
       "20"
      ]
     },
     "execution_count": 12,
     "metadata": {},
     "output_type": "execute_result"
    }
   ],
   "source": [
    "# for example a * b\n",
    "\n",
    "a = [1, 2, 3]\n",
    "b = [2, 3, 4]\n",
    "\n",
    "# dot product\n",
    "dot_product = a[0] * b[0] + a[1] * b[1] + a[2] * b[2]\n",
    "\n",
    "dot_product\n"
   ]
  },
  {
   "cell_type": "markdown",
   "metadata": {},
   "source": [
    "Ok so now we will use this on our own neuron after redefining our inputs\n"
   ]
  },
  {
   "cell_type": "code",
   "execution_count": 13,
   "metadata": {},
   "outputs": [
    {
     "data": {
      "text/plain": [
       "4.8"
      ]
     },
     "execution_count": 13,
     "metadata": {},
     "output_type": "execute_result"
    }
   ],
   "source": [
    "# redefining inputs, weights and bias\n",
    "inputs = [1.0, 2.0, 3.0, 2.5]\n",
    "weights = [0.2, 0.8, -0.5, 1.0]\n",
    "bias = 2\n",
    "\n",
    "# using numpy to calculate the dot product\n",
    "\n",
    "output = np.dot(weights, inputs) + bias\n",
    "\n",
    "output\n"
   ]
  },
  {
   "cell_type": "markdown",
   "metadata": {},
   "source": [
    "Heres whats happening more explicitly\n"
   ]
  },
  {
   "cell_type": "code",
   "execution_count": 14,
   "metadata": {},
   "outputs": [
    {
     "data": {
      "text/html": [
       "<img src=\"./Screen Shot 2022-09-07 at 2.34.05 PM.png\" width=\"500\" height=\"50\"/>"
      ],
      "text/plain": [
       "<IPython.core.display.Image object>"
      ]
     },
     "execution_count": 14,
     "metadata": {},
     "output_type": "execute_result"
    }
   ],
   "source": [
    "Image(url=\"./Screen Shot 2022-09-07 at 2.34.05 PM.png\", width=500, height=50)\n"
   ]
  },
  {
   "cell_type": "markdown",
   "metadata": {},
   "source": [
    "Currently we are only getting one output from a neuron which is a step back from earlier, but if we convert our weights back to a matrix this will still work.\n"
   ]
  },
  {
   "cell_type": "code",
   "execution_count": 15,
   "metadata": {},
   "outputs": [],
   "source": [
    "weights = [[0.2, 0.8, -0.5, 1.0],\n",
    "           [0.5, -0.91, 0.26, -0.5],\n",
    "           [-0.26, -0.27, 0.17, 0.87]]\n"
   ]
  },
  {
   "cell_type": "code",
   "execution_count": 16,
   "metadata": {},
   "outputs": [
    {
     "data": {
      "text/plain": [
       "array([4.8  , 0.21 , 3.885])"
      ]
     },
     "execution_count": 16,
     "metadata": {},
     "output_type": "execute_result"
    }
   ],
   "source": [
    "outputs = np.dot(weights, inputs) + bias\n",
    "\n",
    "outputs\n"
   ]
  },
  {
   "cell_type": "markdown",
   "metadata": {},
   "source": [
    "This is because the sizes of the two matrices match\n",
    "\n",
    "in other words, the two inner numbers are the same, in this case 4 and 4\n"
   ]
  },
  {
   "cell_type": "code",
   "execution_count": 17,
   "metadata": {},
   "outputs": [
    {
     "name": "stdout",
     "output_type": "stream",
     "text": [
      "weights.shape=(3, 4), inputs.shape=(4,) inside elements are equal\n"
     ]
    }
   ],
   "source": [
    "inputs = np.array(inputs)\n",
    "weights = np.array(weights)\n",
    "\n",
    "print(f'{weights.shape=}, {inputs.shape=} inside elements are equal')\n"
   ]
  },
  {
   "cell_type": "code",
   "execution_count": 18,
   "metadata": {},
   "outputs": [
    {
     "data": {
      "text/plain": [
       "array([4.8  , 0.21 , 3.885])"
      ]
     },
     "execution_count": 18,
     "metadata": {},
     "output_type": "execute_result"
    }
   ],
   "source": [
    "# this is an easier way to do that problem also @ being the dot product\n",
    "weights @ inputs + bias\n"
   ]
  },
  {
   "cell_type": "markdown",
   "metadata": {},
   "source": [
    "## Video 4\n",
    "\n",
    "Batches, Layers, and Objects\n"
   ]
  },
  {
   "cell_type": "markdown",
   "metadata": {},
   "source": [
    "We are using batches for a few reasons\n",
    "\n",
    "1. Easier to parallelize use a GPU on it\n",
    "2. easier to feed the neuron multiple inputs at once so it can better fit a line (for example)\n",
    "\n",
    "so we will convert our inputs into three batches of inputs instead of a single input\n"
   ]
  },
  {
   "cell_type": "code",
   "execution_count": 19,
   "metadata": {},
   "outputs": [],
   "source": [
    "# our inputs is now a matrix containing three batches\n",
    "inputs = [[1, 2, 3, 2.5],\n",
    "          [2.0, 5.0, -1.0, 2.0],\n",
    "          [-1.5, 2.7, 3.3, -0.8]]\n",
    "\n",
    "weights = [[0.2, 0.8, -0.5, 1.0],\n",
    "           [0.5, -0.91, 0.26, -0.5],\n",
    "           [-0.26, -0.27, 0.17, 0.87]]\n",
    "\n",
    "biases = [2, 3, 0.5]\n"
   ]
  },
  {
   "cell_type": "markdown",
   "metadata": {},
   "source": [
    "Now that we have redifined our inputs as batches we need to check the shapes of our matrices before we can use the dot product on them\n"
   ]
  },
  {
   "cell_type": "code",
   "execution_count": 20,
   "metadata": {},
   "outputs": [
    {
     "name": "stdout",
     "output_type": "stream",
     "text": [
      "weights.shape=(3, 4), inputs.shape=(3, 4) inside elements are not equal anymore\n"
     ]
    }
   ],
   "source": [
    "inputs = np.array(inputs)\n",
    "weights = np.array(weights)\n",
    "\n",
    "print(f'{weights.shape=}, {inputs.shape=} inside elements are not equal anymore')\n"
   ]
  },
  {
   "cell_type": "code",
   "execution_count": 21,
   "metadata": {},
   "outputs": [
    {
     "name": "stdout",
     "output_type": "stream",
     "text": [
      "oops cant do that\n"
     ]
    }
   ],
   "source": [
    "# therfore it will no longer work to use the dot product on those two matrices\n",
    "\n",
    "try:\n",
    "    inputs @ weights\n",
    "except:\n",
    "    print('oops cant do that')\n"
   ]
  },
  {
   "cell_type": "markdown",
   "metadata": {},
   "source": [
    "Ok so in order to use the dot product on this we have to use the transpose function which basically turns the matrix 90 degrees\n"
   ]
  },
  {
   "cell_type": "code",
   "execution_count": 22,
   "metadata": {},
   "outputs": [
    {
     "data": {
      "text/plain": [
       "array([[ 4.8  ,  1.21 ,  2.385],\n",
       "       [ 8.9  , -1.81 ,  0.2  ],\n",
       "       [ 1.41 ,  1.051,  0.026]])"
      ]
     },
     "execution_count": 22,
     "metadata": {},
     "output_type": "execute_result"
    }
   ],
   "source": [
    "inputs @ weights.T + biases\n"
   ]
  },
  {
   "cell_type": "markdown",
   "metadata": {},
   "source": [
    "ok so now what if we want to add another layer?\n",
    "\n",
    "well thats pretty easy at this point\n",
    "\n",
    "to do that we'll say that those are the outputs of our first layer, layer1\n"
   ]
  },
  {
   "cell_type": "code",
   "execution_count": 23,
   "metadata": {},
   "outputs": [],
   "source": [
    "\n",
    "layer1_outputs = inputs @ weights.T + biases\n"
   ]
  },
  {
   "cell_type": "markdown",
   "metadata": {},
   "source": [
    "And then we will create a new matrix of weights and biases for our new layer\n"
   ]
  },
  {
   "cell_type": "code",
   "execution_count": 24,
   "metadata": {},
   "outputs": [],
   "source": [
    "weights2 = [[0.1, -0.14, 0.5],\n",
    "            [-0.5, 0.12, -0.33],\n",
    "            [-0.44, 0.73, -0.13]]\n",
    "\n",
    "biases2 = [-1, 2, -0.5]\n",
    "\n",
    "\n",
    "# and convert both of those into numpy arrays\n",
    "\n",
    "weights2 = np.array(weights2)\n",
    "biases2 = np.array(biases2)\n"
   ]
  },
  {
   "cell_type": "markdown",
   "metadata": {},
   "source": [
    "Which we can then feed into our equasion as the new inputs and get a new layer of outputs, layer2.\n"
   ]
  },
  {
   "cell_type": "code",
   "execution_count": 25,
   "metadata": {},
   "outputs": [
    {
     "data": {
      "text/plain": [
       "array([[ 0.5031 , -1.04185, -2.03875],\n",
       "       [ 0.2434 , -2.7332 , -5.7633 ],\n",
       "       [-0.99314,  1.41254, -0.35655]])"
      ]
     },
     "execution_count": 25,
     "metadata": {},
     "output_type": "execute_result"
    }
   ],
   "source": [
    "layer2_outputs = layer1_outputs @ weights2.T + biases2\n",
    "\n",
    "layer2_outputs\n"
   ]
  },
  {
   "cell_type": "markdown",
   "metadata": {},
   "source": [
    "Ok sweet so we have output for the most unruly multi layer neural network ever now\n",
    "\n",
    "which is awesome but very hard to edit without a lot of work.\n",
    "\n",
    "so what can we do to clean all of this up?\n",
    "\n",
    "lets create some objects\n",
    "\n",
    "but before we do that lets redifine our input values to X as they are the only thing we will be keeping.\n",
    "\n",
    "(we are keeping the inputs because we need some data to feed to our neural network)\n"
   ]
  },
  {
   "cell_type": "code",
   "execution_count": 26,
   "metadata": {},
   "outputs": [],
   "source": [
    "X = [[1, 2, 3, 2.5],\n",
    "     [2.0, 5.0, -1.0, 2.0],\n",
    "     [-1.5, 2.7, 3.3, -0.8]]\n",
    "\n",
    "X = np.array(X)\n"
   ]
  },
  {
   "cell_type": "markdown",
   "metadata": {},
   "source": [
    "Ok lets make a new class we can work with\n",
    "\n",
    "well make a class called layer_dense that creates its weights and biases randomly when its initialized\n",
    "\n",
    "it will also have a forward method which uses the output\n"
   ]
  },
  {
   "cell_type": "code",
   "execution_count": 27,
   "metadata": {},
   "outputs": [
    {
     "name": "stdout",
     "output_type": "stream",
     "text": [
      "[[ 0.148296   -0.08397602]\n",
      " [ 0.14100315 -0.01340469]\n",
      " [ 0.20124979 -0.07290616]]\n"
     ]
    }
   ],
   "source": [
    "# make sure we have the same vals as the tutorial with seed\n",
    "np.random.seed(0)\n",
    "\n",
    "\n",
    "class Layer_Dense:\n",
    "    def __init__(self, n_inputs, n_neurons):\n",
    "        self.weights = 0.1*np.random.randn(n_inputs, n_neurons)\n",
    "        self.biases = np.zeros((1, n_neurons))\n",
    "\n",
    "    def forward(self, inputs):\n",
    "        # self.output = np.dot(inputs, self.weights) + self.biases\n",
    "        # or alternatively (a little cleaner)\n",
    "        self.output = inputs @ self.weights + self.biases\n",
    "\n",
    "\n",
    "# Create two layers\n",
    "layer1 = Layer_Dense(4, 5)\n",
    "layer2 = Layer_Dense(5, 2)\n",
    "\n",
    "\n",
    "# run a forward pass and feed its output into the second layer\n",
    "layer1.forward(X)\n",
    "layer2.forward(layer1.output)\n",
    "print(layer2.output)\n"
   ]
  },
  {
   "cell_type": "markdown",
   "metadata": {},
   "source": [
    "## Video 5\n",
    "\n",
    "Activation Functions in hidden layers\n"
   ]
  },
  {
   "cell_type": "markdown",
   "metadata": {},
   "source": [
    "Activation functions sit inside each of the neurons, taking all of the inputs to the neuron and calculating their output\n",
    "\n",
    "there are many different activation functions, for example:\n",
    "\n",
    "### Linear\n",
    "\n",
    "$$\n",
    "\\begin{split}R(z,m) = \\begin{Bmatrix} z*m    \\\\\n",
    "           \\end{Bmatrix}\\end{split}\n",
    "\n",
    "\n",
    "$$\n",
    "\n",
    "### sigmoid\n",
    "\n",
    "$$\n",
    "S(z) = \\frac{1} {1 + e^{-z}}\n",
    "$$\n",
    "\n",
    "### RELU\n",
    "\n",
    "$$\n",
    "\\begin{split}F(x) = \\begin{Bmatrix} x & x > 0 \\\\\n",
    " 0 & x <= 0 \\end{Bmatrix}\\end{split}\n",
    "$$\n"
   ]
  },
  {
   "cell_type": "code",
   "execution_count": 28,
   "metadata": {},
   "outputs": [
    {
     "data": {
      "text/plain": [
       "[0, 2, 0, 3.3, 0, 1.1, 2.2, 0]"
      ]
     },
     "execution_count": 28,
     "metadata": {},
     "output_type": "execute_result"
    }
   ],
   "source": [
    "# an example of the relu activation function\n",
    "\n",
    "inputs = [0, 2, -1, 3.3, -2.7, 1.1, 2.2, -100]\n",
    "output = []\n",
    "\n",
    "\n",
    "for i in inputs:\n",
    "    if i > 0:\n",
    "        output.append(i)\n",
    "    elif i <= 0:\n",
    "        output.append(0)\n",
    "\n",
    "output\n"
   ]
  },
  {
   "cell_type": "markdown",
   "metadata": {},
   "source": [
    "Ok that works great!\n",
    "\n",
    "Lets define a class for it so we can use it later on\n"
   ]
  },
  {
   "cell_type": "code",
   "execution_count": 29,
   "metadata": {},
   "outputs": [],
   "source": [
    "class Activation_ReLU:\n",
    "    def forward(self, inputs):\n",
    "        self.output = np.maximum(0, inputs)\n"
   ]
  },
  {
   "cell_type": "markdown",
   "metadata": {},
   "source": [
    "Ok now we need to initialize the nnfs package for this tutorial.\n",
    "\n",
    "in order to generate the datasets and keep the data standardized\n",
    "\n",
    "we will also bring in the spiral dataset generator from the nnfs package\n"
   ]
  },
  {
   "cell_type": "code",
   "execution_count": 30,
   "metadata": {},
   "outputs": [],
   "source": [
    "\n",
    "from nnfs.datasets import spiral_data\n",
    "nnfs.init()\n"
   ]
  },
  {
   "cell_type": "markdown",
   "metadata": {},
   "source": [
    "we can use the nnfs package to create our spiral dataset which will generate a bunch of points\n",
    "\n",
    "These generated points from this function falls into three classes,\n",
    "\n",
    "this first graph has the data without the classifications into those classes\n",
    "\n",
    "its a bit hard to tell which of these dots belongs to each class\n"
   ]
  },
  {
   "cell_type": "code",
   "execution_count": 31,
   "metadata": {},
   "outputs": [
    {
     "data": {
      "image/png": "[encoded data removed]",
      "text/plain": [
       "<Figure size 432x288 with 1 Axes>"
      ]
     },
     "metadata": {
      "needs_background": "light"
     },
     "output_type": "display_data"
    }
   ],
   "source": [
    "# visualizing the dataset\n",
    "\n",
    "X, y = spiral_data(100, 3)\n",
    "\n",
    "plt.scatter(X[:, 0], X[:, 1])\n",
    "plt.show()\n"
   ]
  },
  {
   "cell_type": "markdown",
   "metadata": {},
   "source": [
    "If we colorize them the classification is clear but it would have been hard to determine without the colorization\n"
   ]
  },
  {
   "cell_type": "code",
   "execution_count": 32,
   "metadata": {},
   "outputs": [
    {
     "data": {
      "image/png": "[encoded data removed]",
      "text/plain": [
       "<Figure size 432x288 with 1 Axes>"
      ]
     },
     "metadata": {
      "needs_background": "light"
     },
     "output_type": "display_data"
    }
   ],
   "source": [
    "\n",
    "plt.scatter(X[:, 0], X[:, 1], c=y, cmap=\"brg\")\n",
    "plt.show()\n"
   ]
  },
  {
   "cell_type": "markdown",
   "metadata": {},
   "source": [
    "so we will try to train our model on this data to solve this classification problem and see how well our model will handle it\n",
    "\n",
    "ok so first well have to create our layer of neurons to feed this data into\n"
   ]
  },
  {
   "cell_type": "code",
   "execution_count": 33,
   "metadata": {},
   "outputs": [],
   "source": [
    "# our first layer\n",
    "# we use a 2 here because we are dealing with x,y coordinates in our input therfore our n_inputs is 2\n",
    "layer1 = Layer_Dense(2, 5)\n",
    "\n",
    "\n",
    "# then we need an activation function, in this case well use our newly created class, Activation_ReLU\n",
    "\n",
    "activation1 = Activation_ReLU()\n"
   ]
  },
  {
   "cell_type": "markdown",
   "metadata": {},
   "source": [
    "ok and now that we have our layer and our activation function we can run the forward pass with our data and feed that output to our activation function\n"
   ]
  },
  {
   "cell_type": "code",
   "execution_count": 34,
   "metadata": {},
   "outputs": [
    {
     "data": {
      "text/plain": [
       "array([[0.00000000e+00, 0.00000000e+00, 0.00000000e+00, 0.00000000e+00,\n",
       "        0.00000000e+00],\n",
       "       [0.00000000e+00, 0.00000000e+00, 0.00000000e+00, 4.65504476e-04,\n",
       "        4.56846319e-05],\n",
       "       [0.00000000e+00, 5.93471341e-05, 0.00000000e+00, 2.03573145e-04,\n",
       "        6.10024319e-04],\n",
       "       ...,\n",
       "       [1.13291517e-01, 0.00000000e+00, 0.00000000e+00, 8.11079666e-02,\n",
       "        0.00000000e+00],\n",
       "       [1.34588361e-01, 0.00000000e+00, 3.09493989e-02, 5.66337556e-02,\n",
       "        0.00000000e+00],\n",
       "       [1.07817926e-01, 0.00000000e+00, 0.00000000e+00, 8.72561932e-02,\n",
       "        0.00000000e+00]], dtype=float32)"
      ]
     },
     "execution_count": 34,
     "metadata": {},
     "output_type": "execute_result"
    }
   ],
   "source": [
    "layer1.forward(X)\n",
    "\n",
    "# ok now layer1 has an output we can feed to our activation function\n",
    "\n",
    "activation1.forward(layer1.output)\n",
    "\n",
    "activation1.output\n"
   ]
  },
  {
   "cell_type": "markdown",
   "metadata": {},
   "source": [
    "Ok awesome so thats how we will be using all of the classes we have created so far\n"
   ]
  },
  {
   "cell_type": "markdown",
   "metadata": {},
   "source": [
    "## Video 6\n",
    "\n",
    "Softmax Activation\n"
   ]
  },
  {
   "cell_type": "markdown",
   "metadata": {},
   "source": [
    "Normalizing Values manually without numpy\n"
   ]
  },
  {
   "cell_type": "code",
   "execution_count": 35,
   "metadata": {},
   "outputs": [
    {
     "name": "stdout",
     "output_type": "stream",
     "text": [
      "[121.51041751873483, 3.353484652549023, 10.859062664920513]\n",
      "[0.8952826639572619, 0.024708306782099374, 0.0800090292606387]\n",
      "0.9999999999999999\n"
     ]
    }
   ],
   "source": [
    "layer_outputs = [4.8, 1.21, 2.385]\n",
    "\n",
    "E = math.e\n",
    "\n",
    "\n",
    "exp_values = []\n",
    "\n",
    "for output in layer_outputs:\n",
    "    exp_values.append(E**output)\n",
    "\n",
    "\n",
    "print(exp_values)\n",
    "\n",
    "\n",
    "norm_base = sum(exp_values)\n",
    "norm_values = []\n",
    "\n",
    "\n",
    "for value in exp_values:\n",
    "    norm_values.append(value / norm_base)\n",
    "\n",
    "\n",
    "print(norm_values)\n",
    "print(sum(norm_values))\n"
   ]
  },
  {
   "cell_type": "markdown",
   "metadata": {},
   "source": [
    "Ok thats great but we can simplify it greatly by using numpy.\n"
   ]
  },
  {
   "cell_type": "code",
   "execution_count": 36,
   "metadata": {},
   "outputs": [
    {
     "name": "stdout",
     "output_type": "stream",
     "text": [
      "[121.51041752   3.35348465  10.85906266]\n",
      "[0.89528266 0.02470831 0.08000903]\n",
      "0.9999999999999999\n"
     ]
    }
   ],
   "source": [
    "layer_outputs = [4.8, 1.21, 2.385]\n",
    "\n",
    "\n",
    "exp_values = np.exp(layer_outputs)\n",
    "print(exp_values)\n",
    "norm_values = exp_values / np.sum(exp_values)\n",
    "\n",
    "print(norm_values)\n",
    "print(sum(norm_values))\n"
   ]
  },
  {
   "cell_type": "markdown",
   "metadata": {},
   "source": [
    "As usual, using numpy saves us a lot of lines\n",
    "\n",
    "and this exponentiation and normalization is called the **Softmax** function\n",
    "\n",
    "ok so now we will change our **softmax** so that it can take the input as a matrix as well as a list\n"
   ]
  },
  {
   "cell_type": "code",
   "execution_count": 37,
   "metadata": {},
   "outputs": [
    {
     "name": "stdout",
     "output_type": "stream",
     "text": [
      "[[8.95282664e-01 2.47083068e-02 8.00090293e-02]\n",
      " [9.99838561e-01 2.23170086e-05 1.39121702e-04]\n",
      " [5.13097164e-01 3.58333899e-01 1.28568936e-01]]\n"
     ]
    }
   ],
   "source": [
    "layer_outputs = [[4.8, 1.21, 2.385],\n",
    "                 [8.9, -1.81, 0.02],\n",
    "                 [1.41, 1.051, 0.026]]\n",
    "\n",
    "\n",
    "exp_values = np.exp(layer_outputs)\n",
    "\n",
    "norm_values = exp_values / np.sum(exp_values, axis=1, keepdims=True)\n",
    "\n",
    "\n",
    "print(norm_values)\n"
   ]
  },
  {
   "cell_type": "markdown",
   "metadata": {},
   "source": [
    "Ok so now that we have figured out the **Softmax** lets put it into a class\n"
   ]
  },
  {
   "cell_type": "code",
   "execution_count": 38,
   "metadata": {},
   "outputs": [],
   "source": [
    "class Activation_Softmax:\n",
    "    def forward(self, inputs):\n",
    "        exp_values = np.exp(inputs - np.max(inputs, axis=1, keepdims=True))\n",
    "        probabilites = exp_values / np.sum(exp_values, axis=1, keepdims=True)\n",
    "        self.output = probabilites\n"
   ]
  },
  {
   "cell_type": "markdown",
   "metadata": {},
   "source": [
    "Ok now that we have that defined lets make some data that we can feed into it\n"
   ]
  },
  {
   "cell_type": "code",
   "execution_count": 39,
   "metadata": {},
   "outputs": [
    {
     "data": {
      "text/plain": [
       "array([[0.33333334, 0.33333334, 0.33333334],\n",
       "       [0.3333351 , 0.3333333 , 0.33333164],\n",
       "       [0.333271  , 0.3333301 , 0.33339888],\n",
       "       [0.33329675, 0.33330455, 0.3333987 ],\n",
       "       [0.333312  , 0.33331376, 0.33337426],\n",
       "       [0.3333418 , 0.33333313, 0.333325  ],\n",
       "       [0.33334365, 0.33333308, 0.3333232 ],\n",
       "       [0.3333453 , 0.33333308, 0.33332163],\n",
       "       [0.33334798, 0.33333302, 0.333319  ],\n",
       "       [0.33335003, 0.33333296, 0.333317  ],\n",
       "       [0.33335102, 0.33333296, 0.33331606],\n",
       "       [0.33335313, 0.3333329 , 0.33331397],\n",
       "       [0.33335426, 0.33333287, 0.33331287],\n",
       "       [0.33335748, 0.3333328 , 0.33330974],\n",
       "       [0.33335924, 0.33333275, 0.333308  ],\n",
       "       [0.3333594 , 0.33333275, 0.33330783],\n",
       "       [0.33335876, 0.33333278, 0.3333085 ],\n",
       "       [0.33333334, 0.33333334, 0.33333334],\n",
       "       [0.33336312, 0.33333266, 0.3333042 ],\n",
       "       [0.33333904, 0.3333332 , 0.33332774],\n",
       "       [0.33333924, 0.33333322, 0.3333276 ],\n",
       "       [0.33336693, 0.3333326 , 0.33330053],\n",
       "       [0.33333334, 0.33333334, 0.33333334],\n",
       "       [0.3333648 , 0.33333263, 0.3333026 ],\n",
       "       [0.33337793, 0.33333233, 0.33328974],\n",
       "       [0.33333334, 0.33333334, 0.33333334],\n",
       "       [0.33336833, 0.33333254, 0.3332991 ],\n",
       "       [0.33333334, 0.33333334, 0.33333334],\n",
       "       [0.33333677, 0.33333325, 0.33332998],\n",
       "       [0.3322998 , 0.33416602, 0.33353418],\n",
       "       [0.33260372, 0.3340488 , 0.3333475 ],\n",
       "       [0.33333334, 0.33333334, 0.33333334],\n",
       "       [0.33333334, 0.33333334, 0.33333334],\n",
       "       [0.33333334, 0.33333334, 0.33333334],\n",
       "       [0.33304843, 0.33361256, 0.33333898],\n",
       "       [0.33274266, 0.33391246, 0.33334488],\n",
       "       [0.33263034, 0.33402267, 0.333347  ],\n",
       "       [0.33188736, 0.3344303 , 0.3336823 ],\n",
       "       [0.33122313, 0.3345878 , 0.33418912],\n",
       "       [0.33119133, 0.33461764, 0.334191  ],\n",
       "       [0.3321644 , 0.33440644, 0.33342922],\n",
       "       [0.3325906 , 0.33406168, 0.33334774],\n",
       "       [0.33035487, 0.33447433, 0.3351708 ],\n",
       "       [0.33121377, 0.33470917, 0.3340771 ],\n",
       "       [0.33090907, 0.33478323, 0.33430767],\n",
       "       [0.33054996, 0.33484063, 0.33460942],\n",
       "       [0.33179268, 0.3346263 , 0.33358097],\n",
       "       [0.33012775, 0.33487314, 0.3349991 ],\n",
       "       [0.32997516, 0.33486444, 0.33516037],\n",
       "       [0.3301855 , 0.33427462, 0.33553988],\n",
       "       [0.33036962, 0.33409336, 0.33553702],\n",
       "       [0.32990777, 0.33445528, 0.33563694],\n",
       "       [0.3310561 , 0.33359915, 0.3353448 ],\n",
       "       [0.33047602, 0.33393776, 0.3355862 ],\n",
       "       [0.33023724, 0.3340773 , 0.33568546],\n",
       "       [0.3306756 , 0.33376265, 0.33556172],\n",
       "       [0.33041543, 0.3339049 , 0.33567968],\n",
       "       [0.3303604 , 0.33391696, 0.33572266],\n",
       "       [0.33081493, 0.3336172 , 0.3355679 ],\n",
       "       [0.3298278 , 0.3342361 , 0.33593613],\n",
       "       [0.33257264, 0.33273795, 0.3346894 ],\n",
       "       [0.33048037, 0.33375114, 0.3357685 ],\n",
       "       [0.3333117 , 0.33324486, 0.33344343],\n",
       "       [0.3325914 , 0.3327467 , 0.33466187],\n",
       "       [0.3329826 , 0.33301365, 0.33400375],\n",
       "       [0.3334427 , 0.33333087, 0.3332264 ],\n",
       "       [0.33345208, 0.33333066, 0.3332172 ],\n",
       "       [0.3315183 , 0.33308578, 0.33539587],\n",
       "       [0.333445  , 0.33333084, 0.3332242 ],\n",
       "       [0.33346102, 0.33333048, 0.3332085 ],\n",
       "       [0.33248016, 0.33266187, 0.33485797],\n",
       "       [0.33346546, 0.33333036, 0.33320418],\n",
       "       [0.33219698, 0.3326837 , 0.3351193 ],\n",
       "       [0.333459  , 0.33333054, 0.33321053],\n",
       "       [0.33346808, 0.3333303 , 0.3332016 ],\n",
       "       [0.33343494, 0.3333158 , 0.33324927],\n",
       "       [0.33347502, 0.33333015, 0.33319482],\n",
       "       [0.3334738 , 0.33333018, 0.333196  ],\n",
       "       [0.3333526 , 0.3333329 , 0.33331454],\n",
       "       [0.33343652, 0.33333102, 0.3332324 ],\n",
       "       [0.3334012 , 0.33333185, 0.333267  ],\n",
       "       [0.33343822, 0.333331  , 0.3332308 ],\n",
       "       [0.3334355 , 0.33333105, 0.33323345],\n",
       "       [0.3334811 , 0.33333004, 0.33318886],\n",
       "       [0.33340815, 0.33333167, 0.3332602 ],\n",
       "       [0.333427  , 0.33333123, 0.33324176],\n",
       "       [0.33333334, 0.33333334, 0.33333334],\n",
       "       [0.33318725, 0.33347645, 0.33333623],\n",
       "       [0.3320763 , 0.3345666 , 0.33335707],\n",
       "       [0.33293456, 0.33372423, 0.33334118],\n",
       "       [0.33334067, 0.33333316, 0.33332616],\n",
       "       [0.33336735, 0.33333257, 0.33330008],\n",
       "       [0.3317903 , 0.3348477 , 0.33336204],\n",
       "       [0.33222282, 0.3344227 , 0.33335444],\n",
       "       [0.3333725 , 0.33333248, 0.33329508],\n",
       "       [0.33132643, 0.33530375, 0.33336976],\n",
       "       [0.32955727, 0.3361878 , 0.33425492],\n",
       "       [0.3310595 , 0.3355665 , 0.33337405],\n",
       "       [0.33112395, 0.33550304, 0.333373  ],\n",
       "       [0.3320393 , 0.33460298, 0.33335772],\n",
       "       [0.33333334, 0.33333334, 0.33333334],\n",
       "       [0.3332739 , 0.33336678, 0.33335936],\n",
       "       [0.33326137, 0.33339092, 0.3333477 ],\n",
       "       [0.33320075, 0.33342606, 0.33337322],\n",
       "       [0.33305174, 0.33343732, 0.33351094],\n",
       "       [0.33298624, 0.3334954 , 0.3335184 ],\n",
       "       [0.33292326, 0.33353037, 0.33354634],\n",
       "       [0.33285695, 0.33356383, 0.33357918],\n",
       "       [0.3328249 , 0.3334823 , 0.3336928 ],\n",
       "       [0.33283174, 0.3334475 , 0.33372077],\n",
       "       [0.33267006, 0.33354467, 0.33378527],\n",
       "       [0.33258432, 0.33358592, 0.33382973],\n",
       "       [0.33281776, 0.33370072, 0.33348152],\n",
       "       [0.33244082, 0.33364034, 0.33391884],\n",
       "       [0.3323653 , 0.33367243, 0.33396226],\n",
       "       [0.33237737, 0.3336149 , 0.3340077 ],\n",
       "       [0.33271474, 0.3333702 , 0.33391502],\n",
       "       [0.33243886, 0.3338874 , 0.33367375],\n",
       "       [0.33217016, 0.33368522, 0.33414465],\n",
       "       [0.33255982, 0.33339834, 0.33404186],\n",
       "       [0.33223537, 0.33357537, 0.33418924],\n",
       "       [0.33190903, 0.33380955, 0.33428138],\n",
       "       [0.3331473 , 0.33317837, 0.3336743 ],\n",
       "       [0.3330256 , 0.3331014 , 0.33387297],\n",
       "       [0.3321973 , 0.33350685, 0.33429584],\n",
       "       [0.33313838, 0.33316857, 0.33369306],\n",
       "       [0.333373  , 0.3333304 , 0.33329657],\n",
       "       [0.3331555 , 0.3331779 , 0.3336666 ],\n",
       "       [0.33338305, 0.33333224, 0.33328474],\n",
       "       [0.3333246 , 0.33329293, 0.3333825 ],\n",
       "       [0.33321625, 0.33321625, 0.3335675 ],\n",
       "       [0.33299044, 0.33305985, 0.33394974],\n",
       "       [0.3333894 , 0.33333212, 0.33327857],\n",
       "       [0.33339462, 0.33333197, 0.3332734 ],\n",
       "       [0.33339357, 0.33333197, 0.3332744 ],\n",
       "       [0.3333986 , 0.33333188, 0.33326948],\n",
       "       [0.3333973 , 0.33333188, 0.3332708 ],\n",
       "       [0.33339956, 0.33333182, 0.33326852],\n",
       "       [0.33340406, 0.33333176, 0.3332642 ],\n",
       "       [0.33340216, 0.3333318 , 0.33326602],\n",
       "       [0.33340812, 0.33333167, 0.33326027],\n",
       "       [0.3333745 , 0.33333242, 0.33329308],\n",
       "       [0.33338052, 0.33333227, 0.3332872 ],\n",
       "       [0.3333811 , 0.33333227, 0.3332867 ],\n",
       "       [0.3333731 , 0.33333245, 0.33329442],\n",
       "       [0.33333334, 0.33333334, 0.33333334],\n",
       "       [0.33338916, 0.33333206, 0.33327875],\n",
       "       [0.3334208 , 0.33333138, 0.3332478 ],\n",
       "       [0.33334854, 0.333333  , 0.33331847],\n",
       "       [0.33335102, 0.33333296, 0.33331606],\n",
       "       [0.33336335, 0.33333266, 0.333304  ],\n",
       "       [0.33337536, 0.3333324 , 0.33329225],\n",
       "       [0.33334166, 0.33333316, 0.3333252 ],\n",
       "       [0.33333334, 0.33333334, 0.33333334],\n",
       "       [0.33333334, 0.33333334, 0.33333334],\n",
       "       [0.33012134, 0.33516535, 0.33471328],\n",
       "       [0.33333334, 0.33333334, 0.33333334],\n",
       "       [0.33333334, 0.33333334, 0.33333334],\n",
       "       [0.333376  , 0.3333324 , 0.33329165],\n",
       "       [0.33201355, 0.33462828, 0.3333582 ],\n",
       "       [0.33334073, 0.33333316, 0.33332607],\n",
       "       [0.3325001 , 0.33415052, 0.3333494 ],\n",
       "       [0.33184212, 0.33479673, 0.33336115],\n",
       "       [0.33213606, 0.33450794, 0.33335602],\n",
       "       [0.32877302, 0.33524302, 0.33598396],\n",
       "       [0.3289209 , 0.33546594, 0.33561316],\n",
       "       [0.32863265, 0.33531013, 0.3360572 ],\n",
       "       [0.3309434 , 0.3352587 , 0.3337979 ],\n",
       "       [0.32849327, 0.33525005, 0.33625668],\n",
       "       [0.32847428, 0.33549893, 0.3360268 ],\n",
       "       [0.3283596 , 0.335276  , 0.33636442],\n",
       "       [0.32851493, 0.33495   , 0.33653507],\n",
       "       [0.328972  , 0.3357404 , 0.33528757],\n",
       "       [0.32824722, 0.3356678 , 0.33608502],\n",
       "       [0.32878333, 0.33458367, 0.336633  ],\n",
       "       [0.33103   , 0.3353806 , 0.3335894 ],\n",
       "       [0.33069763, 0.33334368, 0.33595872],\n",
       "       [0.32906085, 0.33429253, 0.33664665],\n",
       "       [0.32840365, 0.33476114, 0.33683518],\n",
       "       [0.329079  , 0.3342293 , 0.3366917 ],\n",
       "       [0.32773647, 0.33537504, 0.3368885 ],\n",
       "       [0.32867292, 0.3344593 , 0.33686778],\n",
       "       [0.33242217, 0.33260667, 0.33497113],\n",
       "       [0.3328289 , 0.33288446, 0.33428663],\n",
       "       [0.33349043, 0.33332983, 0.33317977],\n",
       "       [0.331032  , 0.33301756, 0.3359504 ],\n",
       "       [0.32994345, 0.33356103, 0.33649552],\n",
       "       [0.33087173, 0.3330623 , 0.33606598],\n",
       "       [0.32998538, 0.33350095, 0.3365137 ],\n",
       "       [0.33260524, 0.33272308, 0.33467168],\n",
       "       [0.33337978, 0.33325937, 0.33336085],\n",
       "       [0.33311996, 0.33307672, 0.3338033 ],\n",
       "       [0.33350536, 0.33332947, 0.3331651 ],\n",
       "       [0.33336782, 0.33324745, 0.3333847 ],\n",
       "       [0.33347932, 0.33332446, 0.33319628],\n",
       "       [0.33344066, 0.33329612, 0.3332632 ],\n",
       "       [0.33237866, 0.33255896, 0.33506238],\n",
       "       [0.33269665, 0.33277616, 0.3345272 ],\n",
       "       [0.3334547 , 0.33330244, 0.33324286],\n",
       "       [0.33345968, 0.3333305 , 0.3332098 ],\n",
       "       [0.33333334, 0.33333334, 0.33333334],\n",
       "       [0.33333442, 0.3333333 , 0.3333323 ],\n",
       "       [0.33333692, 0.33333325, 0.33332983],\n",
       "       [0.33333778, 0.3333329 , 0.3333293 ],\n",
       "       [0.3333406 , 0.33333316, 0.33332622],\n",
       "       [0.33334008, 0.33333316, 0.33332673],\n",
       "       [0.33333915, 0.3333332 , 0.33332765],\n",
       "       [0.33333555, 0.33333328, 0.33333117],\n",
       "       [0.33333984, 0.33333316, 0.33332694],\n",
       "       [0.33333334, 0.33333334, 0.33333334],\n",
       "       [0.33334234, 0.33333313, 0.33332452],\n",
       "       [0.33334732, 0.33333305, 0.3333197 ],\n",
       "       [0.33335257, 0.3333329 , 0.3333145 ],\n",
       "       [0.33334568, 0.33333305, 0.33332124],\n",
       "       [0.33333334, 0.33333334, 0.33333334],\n",
       "       [0.33334243, 0.33333313, 0.33332443],\n",
       "       [0.3331831 , 0.33348057, 0.33333632],\n",
       "       [0.33291322, 0.33374515, 0.3333416 ],\n",
       "       [0.33335674, 0.33333284, 0.33331048],\n",
       "       [0.33292237, 0.33373618, 0.33334142],\n",
       "       [0.33335128, 0.33333293, 0.33331576],\n",
       "       [0.33290607, 0.3337522 , 0.33334175],\n",
       "       [0.33226365, 0.33403435, 0.333702  ],\n",
       "       [0.3328314 , 0.33382538, 0.33334318],\n",
       "       [0.33333334, 0.33333334, 0.33333334],\n",
       "       [0.33292532, 0.33373332, 0.3333414 ],\n",
       "       [0.3325945 , 0.33402416, 0.33338135],\n",
       "       [0.33232537, 0.33412114, 0.33355346],\n",
       "       [0.33213788, 0.33418888, 0.33367324],\n",
       "       [0.3318645 , 0.3342686 , 0.3338669 ],\n",
       "       [0.33147365, 0.33433878, 0.3341876 ],\n",
       "       [0.33238873, 0.3341767 , 0.33343458],\n",
       "       [0.3313797 , 0.334405  , 0.33421525],\n",
       "       [0.33119488, 0.33398375, 0.33482137],\n",
       "       [0.33111125, 0.3344679 , 0.33442086],\n",
       "       [0.3309799 , 0.3344905 , 0.3345296 ],\n",
       "       [0.33109844, 0.33395943, 0.33494216],\n",
       "       [0.33236647, 0.3342817 , 0.33335188],\n",
       "       [0.3313863 , 0.33370045, 0.33491322],\n",
       "       [0.33055001, 0.33449587, 0.33495417],\n",
       "       [0.33077917, 0.33408827, 0.3351326 ],\n",
       "       [0.33080924, 0.33402923, 0.33516154],\n",
       "       [0.33186793, 0.33334494, 0.33478716],\n",
       "       [0.33071804, 0.33403793, 0.335244  ],\n",
       "       [0.33050087, 0.33418372, 0.3353154 ],\n",
       "       [0.33292022, 0.33299404, 0.3340857 ],\n",
       "       [0.33011082, 0.33479792, 0.33509126],\n",
       "       [0.33182737, 0.3332769 , 0.3348957 ],\n",
       "       [0.33035347, 0.33416787, 0.33547866],\n",
       "       [0.33118927, 0.3335829 , 0.33522782],\n",
       "       [0.33342668, 0.33333126, 0.33324206],\n",
       "       [0.332783  , 0.33289272, 0.33432427],\n",
       "       [0.33306345, 0.33308405, 0.3338525 ],\n",
       "       [0.3307093 , 0.3337864 , 0.33550432],\n",
       "       [0.33269948, 0.33283195, 0.33446854],\n",
       "       [0.3334255 , 0.3333313 , 0.33324322],\n",
       "       [0.333434  , 0.33333108, 0.3332349 ],\n",
       "       [0.3334398 , 0.33333096, 0.33322924],\n",
       "       [0.3334384 , 0.333331  , 0.3332306 ],\n",
       "       [0.33344302, 0.33333087, 0.3332261 ],\n",
       "       [0.33344385, 0.33333087, 0.33322528],\n",
       "       [0.33285394, 0.33292863, 0.3342174 ],\n",
       "       [0.3334477 , 0.33333078, 0.33322155],\n",
       "       [0.33342826, 0.3333312 , 0.33324048],\n",
       "       [0.33342895, 0.3333312 , 0.33323985],\n",
       "       [0.33345053, 0.33333072, 0.33321878],\n",
       "       [0.33345538, 0.33333063, 0.333214  ],\n",
       "       [0.33345807, 0.33333054, 0.33321136],\n",
       "       [0.33343148, 0.33333114, 0.33323738],\n",
       "       [0.33335245, 0.3333329 , 0.33331466],\n",
       "       [0.33346424, 0.3333304 , 0.33320537],\n",
       "       [0.3334325 , 0.33333114, 0.33323643],\n",
       "       [0.3334453 , 0.33333084, 0.33322388],\n",
       "       [0.33333334, 0.33333334, 0.33333334],\n",
       "       [0.3333981 , 0.33333188, 0.33326998],\n",
       "       [0.33338067, 0.33333227, 0.33328703],\n",
       "       [0.33334985, 0.333333  , 0.3333172 ],\n",
       "       [0.33333334, 0.33333334, 0.33333334],\n",
       "       [0.33333364, 0.33333334, 0.33333302],\n",
       "       [0.3334725 , 0.3333302 , 0.3331973 ],\n",
       "       [0.3326408 , 0.33401242, 0.33334678],\n",
       "       [0.3324437 , 0.33420584, 0.33335045],\n",
       "       [0.33333334, 0.33333334, 0.33333334],\n",
       "       [0.33333334, 0.33333334, 0.33333334],\n",
       "       [0.33142224, 0.33520955, 0.3333682 ],\n",
       "       [0.33093774, 0.3355878 , 0.33347446],\n",
       "       [0.33218452, 0.33446035, 0.33335516],\n",
       "       [0.33128434, 0.33534518, 0.33337045],\n",
       "       [0.3322735 , 0.3343729 , 0.33335355],\n",
       "       [0.33011776, 0.33590302, 0.3339792 ],\n",
       "       [0.332713  , 0.33394155, 0.3333454 ],\n",
       "       [0.32777262, 0.33637536, 0.33585206],\n",
       "       [0.3304709 , 0.3358565 , 0.33367264],\n",
       "       [0.32730612, 0.33643162, 0.3362623 ],\n",
       "       [0.33058336, 0.3358582 , 0.33355844],\n",
       "       [0.32790273, 0.33648443, 0.33561286],\n",
       "       [0.32680145, 0.3364691 , 0.3367294 ],\n",
       "       [0.32943875, 0.33623794, 0.33432338],\n",
       "       [0.32635832, 0.3361609 , 0.33748078],\n",
       "       [0.32634646, 0.33640212, 0.3372514 ]], dtype=float32)"
      ]
     },
     "execution_count": 39,
     "metadata": {},
     "output_type": "execute_result"
    }
   ],
   "source": [
    "X, y = spiral_data(samples=100, classes=3)\n",
    "\n",
    "# Create layer 1 with two inputs and three neurons\n",
    "dense1 = Layer_Dense(2, 3)\n",
    "activation1 = Activation_ReLU()\n",
    "\n",
    "# Create layer 2 with three inputs (because the last layer has three neurons worth of output) and three neurons\n",
    "dense2 = Layer_Dense(3, 3)\n",
    "activation2 = Activation_Softmax()\n",
    "\n",
    "dense1.forward(X)\n",
    "activation1.forward(dense1.output)\n",
    "\n",
    "\n",
    "dense2.forward(activation1.output)\n",
    "activation2.forward(dense2.output)\n",
    "\n",
    "\n",
    "activation2.output\n"
   ]
  },
  {
   "cell_type": "markdown",
   "metadata": {},
   "source": [
    "# Video 7\n",
    "\n",
    "Calculating Loss with Categorical Cross-Entropy\n"
   ]
  },
  {
   "cell_type": "markdown",
   "metadata": {},
   "source": [
    "This is the way that you figure out how wrong your machine learning model is, to start off we will Look at the equation for **Categorical Cross Entropy**\n"
   ]
  },
  {
   "cell_type": "code",
   "execution_count": 40,
   "metadata": {},
   "outputs": [
    {
     "data": {
      "text/html": [
       "<img src=\"./Screen Shot 2022-09-10 at 9.41.22 PM.png\" width=\"600\" height=\"300\"/>"
      ],
      "text/plain": [
       "<IPython.core.display.Image object>"
      ]
     },
     "execution_count": 40,
     "metadata": {},
     "output_type": "execute_result"
    }
   ],
   "source": [
    "Image(url=\"./Screen Shot 2022-09-10 at 9.41.22 PM.png\", width=600, height=300)\n"
   ]
  },
  {
   "cell_type": "code",
   "execution_count": 41,
   "metadata": {},
   "outputs": [
    {
     "name": "stdout",
     "output_type": "stream",
     "text": [
      "1.6486586255873816\n",
      "5.199999999999999\n"
     ]
    }
   ],
   "source": [
    "'''\n",
    "solving for x in the equation\n",
    "e ** x = b\n",
    "'''\n",
    "\n",
    "\n",
    "b = 5.2\n",
    "\n",
    "print((np.log(b)))\n",
    "\n",
    "print(math.e ** 1.6486586255873816)\n"
   ]
  },
  {
   "cell_type": "markdown",
   "metadata": {},
   "source": [
    "Ok well now we know how log works, which we will be using for the **Categorical Cross Entropy** function, lets work on coding an example of **Categorical Cross Entropy** for our own model\n"
   ]
  },
  {
   "cell_type": "code",
   "execution_count": 42,
   "metadata": {},
   "outputs": [
    {
     "name": "stdout",
     "output_type": "stream",
     "text": [
      "0.35667494393873245\n",
      "0.35667494393873245\n"
     ]
    }
   ],
   "source": [
    "\n",
    "\n",
    "# example outputs from a fictional neural net\n",
    "# there are three neurons outputting from a neural net using a softmax activation function\n",
    "softmax_output = [0.7, 0.1, 0.2]\n",
    "\n",
    "# ok so now we want to use our categorical cross entropy function to calculate the loss on these outputs\n",
    "# using the one-hot encoding for our answer we have the vector with three classes called target_output\n",
    "target_output = [1, 0, 0]\n",
    "# where the label is equal to 0 meaning the index zero is \"hot\" (meaning its the answer we want)\n",
    "\n",
    "\n",
    "# and now we can calculate the loss using our categorical cross entropy function\n",
    "\n",
    "loss = -(math.log(softmax_output[0])*target_output[0] +\n",
    "         math.log(softmax_output[1])*target_output[1] +\n",
    "         math.log(softmax_output[2])*target_output[2])\n",
    "print(loss)\n",
    "\n",
    "# which is the same as\n",
    "\n",
    "loss = -(math.log(softmax_output[0]))\n",
    "print(loss)\n"
   ]
  },
  {
   "cell_type": "markdown",
   "metadata": {},
   "source": [
    "Ok great so now we have our loss value, why and how is this useful?\n",
    "\n",
    "well basically what we are doing with that whole equasion up there is this\n"
   ]
  },
  {
   "cell_type": "code",
   "execution_count": 43,
   "metadata": {},
   "outputs": [
    {
     "name": "stdout",
     "output_type": "stream",
     "text": [
      "0.35667494393873245\n",
      "1.6094379124341003\n",
      "0.01005033585350145\n"
     ]
    }
   ],
   "source": [
    "print(-math.log(0.7))  # which is pretty close to our goal value of one\n",
    "\n",
    "# ok so what happens when we put in lower values\n",
    "print(-math.log(0.2))\n",
    "\n",
    "# our value increases... and if we get closer\n",
    "print(-math.log(0.99))\n",
    "\n",
    "# our output value drops, so this will give us a good idea of how close to target we are with the output of our neural net\n"
   ]
  },
  {
   "cell_type": "markdown",
   "metadata": {},
   "source": [
    "# Video 8: Implementing Loss"
   ]
  },
  {
   "cell_type": "markdown",
   "metadata": {},
   "source": [
    "Ok so again, in reality our output from our actual neural network will probably look a bit different, more like this...\n"
   ]
  },
  {
   "cell_type": "code",
   "execution_count": 44,
   "metadata": {},
   "outputs": [
    {
     "name": "stdout",
     "output_type": "stream",
     "text": [
      "[0.7 0.5 0.9]\n",
      "[0.7 0.5 0.9]\n",
      "[0.35667494 0.69314718 0.10536052]\n"
     ]
    }
   ],
   "source": [
    "softmax_outputs = np.array([[0.7, 0.1, 0.2],\n",
    "                   [0.1, 0.5, 0.4],\n",
    "                   [0.02, 0.9, 0.08]])\n",
    "\n",
    "# if we have certain targets we are looking for, say we have the following classification system\n",
    "# 0 = dog\n",
    "# 1 = cat\n",
    "# 2 = human\n",
    "# then we can make a class targets list\n",
    "\n",
    "class_targets = [0, 1, 1]\n",
    "# ex. in the first array we are looking at index 0 (0.7), in the second we are looking at index 1 (0.5) and the third we are looking at 1 again (0.9)\n",
    "\n",
    "\n",
    "# using that we can use this statement\n",
    "\n",
    "print(softmax_outputs[[0,1,2], class_targets])\n",
    "\n",
    "\n",
    "# and to make that a bit more robust we can just get the range of the length of the softmax outputs\n",
    "print(softmax_outputs[range(len(softmax_outputs)), class_targets])\n",
    "\n",
    "\n",
    "# ok and now we can calculate the loss by simply wrapping that in a -np.log function\n",
    "\n",
    "print(-np.log(softmax_outputs[range(len(softmax_outputs)), class_targets]))\n",
    "\n",
    "\n"
   ]
  },
  {
   "cell_type": "markdown",
   "metadata": {},
   "source": [
    "ok awesome, thats almost perfect but we have one small problem...\n",
    "\n",
    "\n",
    "the -np.log of 0 is infinite, which means that we will produce an error or at least a warning"
   ]
  },
  {
   "cell_type": "code",
   "execution_count": 45,
   "metadata": {},
   "outputs": [
    {
     "name": "stdout",
     "output_type": "stream",
     "text": [
      "inf\n"
     ]
    },
    {
     "name": "stderr",
     "output_type": "stream",
     "text": [
      "/var/folders/f8/td8bv8fd50jggfd3hxcq6w_r0000gn/T/ipykernel_1864/926104048.py:1: RuntimeWarning: divide by zero encountered in log\n",
      "  a = -np.log(0)\n"
     ]
    }
   ],
   "source": [
    "a = -np.log(0)\n",
    "\n",
    "print(a)\n"
   ]
  },
  {
   "cell_type": "markdown",
   "metadata": {},
   "source": [
    "This will technically work, because its a warning not an error, but it will mess up our mean, bc the mean will now be infinite\n",
    "\n",
    "one of the ways that we can get around this is by clipping all of the values by some tiny number like 1e-7 which then stops us from having inf values\n",
    "\n",
    "\n",
    "ok great so lets define some more classes, first we should make a common loss class we can inherit from later"
   ]
  },
  {
   "cell_type": "code",
   "execution_count": 46,
   "metadata": {},
   "outputs": [],
   "source": [
    "class Loss:\n",
    "    def calculate(self, output, y):\n",
    "        '''\n",
    "        output: output from the model\n",
    "        y: our intended target values\n",
    "        '''\n",
    "        sample_losses = self.forward(output, y)\n",
    "        data_loss = np.mean(sample_losses)\n",
    "        return data_loss"
   ]
  },
  {
   "cell_type": "markdown",
   "metadata": {},
   "source": [
    "Ok and now we will make another class that inherits from this to calculate loss with categorical cross entropy"
   ]
  },
  {
   "cell_type": "code",
   "execution_count": 47,
   "metadata": {},
   "outputs": [],
   "source": [
    "class Loss_CategoricalCrossEntropy(Loss):\n",
    "    def forward(self, y_pred, y_true):\n",
    "        '''\n",
    "        y_pred: the values that the network predicted\n",
    "        y_true: the actual values that we want\n",
    "        '''\n",
    "        samples = len(y_pred)\n",
    "        \n",
    "        # this is where we clip off the infinites\n",
    "        y_pred_clipped = np.clip(y_pred, 1e-7, 1 - 1e-7)\n",
    "        \n",
    "        # and now we have to get the confidences\n",
    "        # we may get the true values, one hot encoded or simply as an array so we have to check for both\n",
    "        \n",
    "        if len(y_true.shape) == 1:\n",
    "            correct_confidences = y_pred_clipped[range(samples), y_true]\n",
    "        elif len(y_true.shape) == 2:\n",
    "            correct_confidences = np.sum(y_pred_clipped*y_true, axis=1)\n",
    "            \n",
    "            \n",
    "        negative_log = -np.log(correct_confidences)\n",
    "        return negative_log\n",
    "            \n",
    "    "
   ]
  },
  {
   "cell_type": "markdown",
   "metadata": {},
   "source": [
    "Ok so now that we have that defined lets redifine our spiral data and run this against it"
   ]
  },
  {
   "cell_type": "code",
   "execution_count": 48,
   "metadata": {},
   "outputs": [
    {
     "name": "stdout",
     "output_type": "stream",
     "text": [
      "loss=1.0989271\n"
     ]
    }
   ],
   "source": [
    "X, y = spiral_data(samples=100, classes=3)\n",
    "\n",
    "# Create layer 1 with two inputs and three neurons\n",
    "dense1 = Layer_Dense(2, 3)\n",
    "activation1 = Activation_ReLU()\n",
    "\n",
    "# Create layer 2 with three inputs (because the last layer has three neurons worth of output) and three neurons\n",
    "dense2 = Layer_Dense(3, 3)\n",
    "activation2 = Activation_Softmax()\n",
    "\n",
    "dense1.forward(X)\n",
    "activation1.forward(dense1.output)\n",
    "\n",
    "\n",
    "dense2.forward(activation1.output)\n",
    "activation2.forward(dense2.output)\n",
    "\n",
    "\n",
    "# print(activation2.output[:5])\n",
    "\n",
    "\n",
    "\n",
    "# and now we can use our new categorical cross entropy class\n",
    "\n",
    "\n",
    "\n",
    "loss_function = Loss_CategoricalCrossEntropy()\n",
    "loss = loss_function.calculate(activation2.output, y)\n",
    "\n",
    "\n",
    "print(f\"{loss=}\")\n",
    "\n"
   ]
  },
  {
   "cell_type": "markdown",
   "metadata": {},
   "source": [
    "Ok so now that we have calculated the loss (aka, how wrong we are about our prediction) we need find some way of adjusting our weights and biases to decrease our loss\n",
    "\n",
    "this will be the subject of the next few videos...\n"
   ]
  },
  {
   "cell_type": "markdown",
   "metadata": {},
   "source": [
    "# Video 9: Introducing Optimization"
   ]
  },
  {
   "cell_type": "markdown",
   "metadata": {},
   "source": [
    "Ok so lets try some potentially naive ways of implementing optimization in our neural network\n",
    "\n",
    "\n",
    "to begin lets generate some data"
   ]
  },
  {
   "cell_type": "code",
   "execution_count": 49,
   "metadata": {},
   "outputs": [
    {
     "data": {
      "image/png": "[encoded data removed]",
      "text/plain": [
       "<Figure size 432x288 with 1 Axes>"
      ]
     },
     "metadata": {
      "needs_background": "light"
     },
     "output_type": "display_data"
    }
   ],
   "source": [
    "from nnfs.datasets import vertical_data\n",
    "\n",
    "\n",
    "nnfs.init()\n",
    "\n",
    "X, y = vertical_data(samples=100, classes = 3)\n",
    "\n",
    "plt.scatter(X[:, 0], X[:, 1], c=y, s=40, cmap='brg')\n",
    "plt.show()"
   ]
  },
  {
   "cell_type": "markdown",
   "metadata": {},
   "source": [
    "Awesome, we have some relatively simple data that could potentially be solved by just drawing some vertical lines, lets try to create a neural network and optimize it on this data."
   ]
  },
  {
   "cell_type": "code",
   "execution_count": 50,
   "metadata": {},
   "outputs": [
    {
     "name": "stdout",
     "output_type": "stream",
     "text": [
      "New set of weights found: iteration=0 loss=1.0986564 accuracy=0.3333333333333333\n",
      "New set of weights found: iteration=3 loss=1.098138 accuracy=0.3333333333333333\n",
      "New set of weights found: iteration=117 loss=1.0980115 accuracy=0.3333333333333333\n",
      "New set of weights found: iteration=124 loss=1.0977516 accuracy=0.6\n",
      "New set of weights found: iteration=165 loss=1.097571 accuracy=0.3333333333333333\n",
      "New set of weights found: iteration=552 loss=1.0974693 accuracy=0.34\n",
      "New set of weights found: iteration=778 loss=1.0968257 accuracy=0.3333333333333333\n",
      "New set of weights found: iteration=4307 loss=1.0965533 accuracy=0.3333333333333333\n",
      "New set of weights found: iteration=4615 loss=1.0964499 accuracy=0.3333333333333333\n",
      "New set of weights found: iteration=9450 loss=1.0964295 accuracy=0.3333333333333333\n",
      "New set of weights found: iteration=13361 loss=1.0963014 accuracy=0.3333333333333333\n",
      "New set of weights found: iteration=14001 loss=1.0959858 accuracy=0.3333333333333333\n",
      "New set of weights found: iteration=24598 loss=1.0947444 accuracy=0.3333333333333333\n"
     ]
    }
   ],
   "source": [
    "# Create layer 1 with two inputs and three neurons\n",
    "dense1 = Layer_Dense(2, 3)\n",
    "activation1 = Activation_ReLU()\n",
    "\n",
    "# Create layer 2 with three inputs (because the last layer has three neurons worth of output) and three neurons\n",
    "dense2 = Layer_Dense(3, 3)\n",
    "activation2 = Activation_Softmax()\n",
    "\n",
    "\n",
    "loss_function = Loss_CategoricalCrossEntropy()\n",
    "\n",
    "lowest_loss = 9999999\n",
    "\n",
    "best_dense1_weights = dense1.weights.copy()\n",
    "best_dense1_biases = dense1.biases.copy()\n",
    "best_dense2_weights = dense2.weights.copy()\n",
    "best_dense2_biases = dense2.biases.copy()\n",
    "\n",
    "\n",
    "num_iterations = 100000\n",
    "\n",
    "for iteration in range(num_iterations):\n",
    "    # this is how we will randomly assign weights and biases for each iteration\n",
    "    dense1.weights = 0.05 * np.random.randn(2, 3)\n",
    "    dense1.biases = 0.05 * np.random.randn(1, 3)\n",
    "    dense2.weights = 0.05 * np.random.randn(3, 3)\n",
    "    dense2.biases = 0.05 * np.random.randn(1, 3)\n",
    "    \n",
    "    # then we need to train the network on those new random weights and biases\n",
    "    \n",
    "    dense1.forward(X)\n",
    "    activation1.forward(dense1.output)\n",
    "    dense2.forward(activation1.output)\n",
    "    activation2.forward(dense2.output)\n",
    "    \n",
    "    # then well calculate the loss\n",
    "    loss = loss_function.calculate(activation2.output, y)\n",
    "    \n",
    "    predictions = np.argmax(activation2.output, axis=1)\n",
    "    accuracy = np.mean(predictions==y)\n",
    "    \n",
    "    if loss < lowest_loss:\n",
    "        print(f'New set of weights found: {iteration=} {loss=} {accuracy=}')\n",
    "        \n",
    "        best_dense1_weights = dense1.weights.copy()\n",
    "        best_dense1_biases = dense1.biases.copy()\n",
    "        best_dense2_weights = dense2.weights.copy()\n",
    "        best_dense2_biases = dense2.biases.copy()\n",
    "        \n",
    "        lowest_loss = loss\n",
    "\n"
   ]
  },
  {
   "cell_type": "markdown",
   "metadata": {},
   "source": [
    "As we can see, the loss decreases very slowly with this method, and the accutacy does not increase at all\n",
    "\n",
    "so lets try a bit of a smarter method\n",
    "\n",
    "instead of making fully new random weights and biases every time, we can try to tweak the values that we already know"
   ]
  },
  {
   "cell_type": "code",
   "execution_count": 51,
   "metadata": {},
   "outputs": [
    {
     "name": "stdout",
     "output_type": "stream",
     "text": [
      "New set of weights found: iteration=0 loss=1.0990679 accuracy=0.3333333333333333\n",
      "New set of weights found: iteration=14 loss=1.0988022 accuracy=0.3333333333333333\n",
      "New set of weights found: iteration=17 loss=1.0966319 accuracy=0.6533333333333333\n",
      "New set of weights found: iteration=18 loss=1.0965811 accuracy=0.3333333333333333\n",
      "New set of weights found: iteration=19 loss=1.0940638 accuracy=0.3333333333333333\n",
      "New set of weights found: iteration=20 loss=1.0934975 accuracy=0.36\n",
      "New set of weights found: iteration=21 loss=1.090643 accuracy=0.3333333333333333\n",
      "New set of weights found: iteration=27 loss=1.0807947 accuracy=0.37333333333333335\n",
      "New set of weights found: iteration=29 loss=1.0802002 accuracy=0.38\n",
      "New set of weights found: iteration=32 loss=1.0645545 accuracy=0.33666666666666667\n",
      "New set of weights found: iteration=36 loss=1.0632961 accuracy=0.38\n",
      "New set of weights found: iteration=37 loss=1.0611253 accuracy=0.63\n",
      "New set of weights found: iteration=38 loss=1.0538154 accuracy=0.5633333333333334\n",
      "New set of weights found: iteration=40 loss=1.0494267 accuracy=0.3333333333333333\n",
      "New set of weights found: iteration=45 loss=1.0474088 accuracy=0.35333333333333333\n",
      "New set of weights found: iteration=50 loss=1.0420754 accuracy=0.37\n",
      "New set of weights found: iteration=52 loss=1.041497 accuracy=0.38333333333333336\n",
      "New set of weights found: iteration=53 loss=1.0318313 accuracy=0.6\n",
      "New set of weights found: iteration=54 loss=1.0159662 accuracy=0.5266666666666666\n",
      "New set of weights found: iteration=56 loss=1.0129201 accuracy=0.6566666666666666\n",
      "New set of weights found: iteration=58 loss=1.0070277 accuracy=0.6266666666666667\n",
      "New set of weights found: iteration=65 loss=1.0047837 accuracy=0.65\n",
      "New set of weights found: iteration=80 loss=1.0042241 accuracy=0.5933333333333334\n",
      "New set of weights found: iteration=81 loss=0.9941858 accuracy=0.5866666666666667\n",
      "New set of weights found: iteration=82 loss=0.9858656 accuracy=0.5433333333333333\n",
      "New set of weights found: iteration=83 loss=0.97254556 accuracy=0.5833333333333334\n",
      "New set of weights found: iteration=90 loss=0.96818197 accuracy=0.6533333333333333\n",
      "New set of weights found: iteration=96 loss=0.9673354 accuracy=0.6633333333333333\n",
      "New set of weights found: iteration=99 loss=0.9656551 accuracy=0.78\n",
      "New set of weights found: iteration=105 loss=0.9633631 accuracy=0.85\n",
      "New set of weights found: iteration=108 loss=0.96288645 accuracy=0.91\n",
      "New set of weights found: iteration=112 loss=0.96254027 accuracy=0.6933333333333334\n",
      "New set of weights found: iteration=116 loss=0.96058184 accuracy=0.7233333333333334\n",
      "New set of weights found: iteration=122 loss=0.9411381 accuracy=0.76\n",
      "New set of weights found: iteration=123 loss=0.92976606 accuracy=0.6633333333333333\n",
      "New set of weights found: iteration=128 loss=0.9291926 accuracy=0.68\n",
      "New set of weights found: iteration=129 loss=0.92757744 accuracy=0.6666666666666666\n",
      "New set of weights found: iteration=131 loss=0.925848 accuracy=0.6666666666666666\n",
      "New set of weights found: iteration=133 loss=0.90191793 accuracy=0.6666666666666666\n",
      "New set of weights found: iteration=135 loss=0.8951477 accuracy=0.6633333333333333\n",
      "New set of weights found: iteration=137 loss=0.8848767 accuracy=0.6666666666666666\n",
      "New set of weights found: iteration=138 loss=0.8806075 accuracy=0.7433333333333333\n",
      "New set of weights found: iteration=140 loss=0.8705902 accuracy=0.8433333333333334\n",
      "New set of weights found: iteration=144 loss=0.8559926 accuracy=0.81\n",
      "New set of weights found: iteration=146 loss=0.83015454 accuracy=0.7\n",
      "New set of weights found: iteration=147 loss=0.8194887 accuracy=0.6366666666666667\n",
      "New set of weights found: iteration=148 loss=0.81361115 accuracy=0.9066666666666666\n",
      "New set of weights found: iteration=149 loss=0.8066215 accuracy=0.8733333333333333\n",
      "New set of weights found: iteration=153 loss=0.79989135 accuracy=0.8566666666666667\n",
      "New set of weights found: iteration=157 loss=0.78204435 accuracy=0.6933333333333334\n",
      "New set of weights found: iteration=158 loss=0.7636794 accuracy=0.73\n",
      "New set of weights found: iteration=159 loss=0.75939494 accuracy=0.8866666666666667\n",
      "New set of weights found: iteration=162 loss=0.7430596 accuracy=0.8066666666666666\n",
      "New set of weights found: iteration=163 loss=0.7379057 accuracy=0.8533333333333334\n",
      "New set of weights found: iteration=166 loss=0.7368602 accuracy=0.7666666666666667\n",
      "New set of weights found: iteration=173 loss=0.73487735 accuracy=0.74\n",
      "New set of weights found: iteration=174 loss=0.7233026 accuracy=0.8833333333333333\n",
      "New set of weights found: iteration=175 loss=0.7228586 accuracy=0.8966666666666666\n",
      "New set of weights found: iteration=176 loss=0.7217443 accuracy=0.81\n",
      "New set of weights found: iteration=177 loss=0.7117027 accuracy=0.88\n",
      "New set of weights found: iteration=179 loss=0.7041453 accuracy=0.8966666666666666\n",
      "New set of weights found: iteration=190 loss=0.6964666 accuracy=0.9266666666666666\n",
      "New set of weights found: iteration=196 loss=0.68892235 accuracy=0.92\n",
      "New set of weights found: iteration=198 loss=0.6860991 accuracy=0.92\n",
      "New set of weights found: iteration=199 loss=0.6741528 accuracy=0.9133333333333333\n",
      "New set of weights found: iteration=201 loss=0.66026837 accuracy=0.9233333333333333\n",
      "New set of weights found: iteration=202 loss=0.6561481 accuracy=0.9133333333333333\n",
      "New set of weights found: iteration=204 loss=0.6433857 accuracy=0.9266666666666666\n",
      "New set of weights found: iteration=207 loss=0.62845427 accuracy=0.9266666666666666\n",
      "New set of weights found: iteration=208 loss=0.6226525 accuracy=0.9166666666666666\n",
      "New set of weights found: iteration=210 loss=0.62233245 accuracy=0.8866666666666667\n",
      "New set of weights found: iteration=212 loss=0.61464584 accuracy=0.8333333333333334\n",
      "New set of weights found: iteration=213 loss=0.6134074 accuracy=0.8266666666666667\n",
      "New set of weights found: iteration=216 loss=0.59869105 accuracy=0.8633333333333333\n",
      "New set of weights found: iteration=220 loss=0.5922964 accuracy=0.8733333333333333\n",
      "New set of weights found: iteration=221 loss=0.5850799 accuracy=0.9066666666666666\n",
      "New set of weights found: iteration=222 loss=0.5833644 accuracy=0.86\n",
      "New set of weights found: iteration=226 loss=0.58059776 accuracy=0.9133333333333333\n",
      "New set of weights found: iteration=230 loss=0.5617761 accuracy=0.9166666666666666\n",
      "New set of weights found: iteration=232 loss=0.56023335 accuracy=0.9366666666666666\n",
      "New set of weights found: iteration=233 loss=0.5555498 accuracy=0.92\n",
      "New set of weights found: iteration=234 loss=0.5555449 accuracy=0.87\n",
      "New set of weights found: iteration=237 loss=0.5499248 accuracy=0.93\n",
      "New set of weights found: iteration=238 loss=0.5416099 accuracy=0.92\n",
      "New set of weights found: iteration=240 loss=0.5254911 accuracy=0.9233333333333333\n",
      "New set of weights found: iteration=241 loss=0.52018434 accuracy=0.9166666666666666\n",
      "New set of weights found: iteration=242 loss=0.51514316 accuracy=0.9133333333333333\n",
      "New set of weights found: iteration=243 loss=0.5151337 accuracy=0.9233333333333333\n",
      "New set of weights found: iteration=244 loss=0.5067632 accuracy=0.9266666666666666\n",
      "New set of weights found: iteration=245 loss=0.49479252 accuracy=0.9\n",
      "New set of weights found: iteration=246 loss=0.48752594 accuracy=0.9033333333333333\n",
      "New set of weights found: iteration=253 loss=0.4822526 accuracy=0.8933333333333333\n",
      "New set of weights found: iteration=259 loss=0.4756012 accuracy=0.8966666666666666\n",
      "New set of weights found: iteration=268 loss=0.47511995 accuracy=0.9066666666666666\n",
      "New set of weights found: iteration=269 loss=0.46466726 accuracy=0.9133333333333333\n",
      "New set of weights found: iteration=271 loss=0.45392394 accuracy=0.9033333333333333\n",
      "New set of weights found: iteration=275 loss=0.4457889 accuracy=0.8966666666666666\n",
      "New set of weights found: iteration=278 loss=0.4386868 accuracy=0.9166666666666666\n",
      "New set of weights found: iteration=285 loss=0.43553233 accuracy=0.9066666666666666\n",
      "New set of weights found: iteration=291 loss=0.43368632 accuracy=0.9133333333333333\n",
      "New set of weights found: iteration=292 loss=0.42999318 accuracy=0.9033333333333333\n",
      "New set of weights found: iteration=293 loss=0.4211271 accuracy=0.9\n",
      "New set of weights found: iteration=294 loss=0.41443577 accuracy=0.9033333333333333\n",
      "New set of weights found: iteration=295 loss=0.404996 accuracy=0.9166666666666666\n",
      "New set of weights found: iteration=299 loss=0.3936682 accuracy=0.9233333333333333\n",
      "New set of weights found: iteration=302 loss=0.39308903 accuracy=0.9133333333333333\n",
      "New set of weights found: iteration=303 loss=0.3883999 accuracy=0.9266666666666666\n",
      "New set of weights found: iteration=308 loss=0.3864721 accuracy=0.93\n",
      "New set of weights found: iteration=309 loss=0.38295442 accuracy=0.93\n",
      "New set of weights found: iteration=311 loss=0.3751426 accuracy=0.9233333333333333\n",
      "New set of weights found: iteration=313 loss=0.36413503 accuracy=0.9166666666666666\n",
      "New set of weights found: iteration=314 loss=0.36253384 accuracy=0.9\n",
      "New set of weights found: iteration=315 loss=0.35465044 accuracy=0.9066666666666666\n",
      "New set of weights found: iteration=316 loss=0.3456053 accuracy=0.9133333333333333\n",
      "New set of weights found: iteration=318 loss=0.34384307 accuracy=0.9166666666666666\n",
      "New set of weights found: iteration=319 loss=0.34375182 accuracy=0.9133333333333333\n",
      "New set of weights found: iteration=322 loss=0.34013137 accuracy=0.9133333333333333\n",
      "New set of weights found: iteration=327 loss=0.33774507 accuracy=0.92\n",
      "New set of weights found: iteration=329 loss=0.3310846 accuracy=0.9266666666666666\n",
      "New set of weights found: iteration=331 loss=0.32925567 accuracy=0.9266666666666666\n",
      "New set of weights found: iteration=332 loss=0.32101223 accuracy=0.9266666666666666\n",
      "New set of weights found: iteration=336 loss=0.3205302 accuracy=0.9266666666666666\n",
      "New set of weights found: iteration=337 loss=0.31151408 accuracy=0.93\n",
      "New set of weights found: iteration=338 loss=0.3108995 accuracy=0.93\n",
      "New set of weights found: iteration=343 loss=0.31039175 accuracy=0.93\n",
      "New set of weights found: iteration=351 loss=0.30654728 accuracy=0.93\n",
      "New set of weights found: iteration=352 loss=0.30381262 accuracy=0.93\n",
      "New set of weights found: iteration=353 loss=0.2944853 accuracy=0.9266666666666666\n",
      "New set of weights found: iteration=358 loss=0.29414418 accuracy=0.93\n",
      "New set of weights found: iteration=360 loss=0.291955 accuracy=0.9366666666666666\n",
      "New set of weights found: iteration=361 loss=0.28783005 accuracy=0.93\n",
      "New set of weights found: iteration=373 loss=0.28700182 accuracy=0.9266666666666666\n",
      "New set of weights found: iteration=376 loss=0.2819083 accuracy=0.9333333333333333\n",
      "New set of weights found: iteration=378 loss=0.28113618 accuracy=0.9233333333333333\n",
      "New set of weights found: iteration=379 loss=0.2807769 accuracy=0.92\n",
      "New set of weights found: iteration=388 loss=0.27518472 accuracy=0.93\n",
      "New set of weights found: iteration=389 loss=0.274775 accuracy=0.92\n",
      "New set of weights found: iteration=400 loss=0.27356017 accuracy=0.9166666666666666\n",
      "New set of weights found: iteration=410 loss=0.27153412 accuracy=0.9266666666666666\n",
      "New set of weights found: iteration=413 loss=0.2678898 accuracy=0.9133333333333333\n",
      "New set of weights found: iteration=418 loss=0.2660062 accuracy=0.9133333333333333\n",
      "New set of weights found: iteration=419 loss=0.26087025 accuracy=0.9133333333333333\n",
      "New set of weights found: iteration=422 loss=0.26002648 accuracy=0.92\n",
      "New set of weights found: iteration=425 loss=0.25589684 accuracy=0.92\n",
      "New set of weights found: iteration=430 loss=0.25387 accuracy=0.93\n",
      "New set of weights found: iteration=431 loss=0.25335807 accuracy=0.92\n",
      "New set of weights found: iteration=434 loss=0.25097337 accuracy=0.93\n",
      "New set of weights found: iteration=436 loss=0.25028142 accuracy=0.92\n",
      "New set of weights found: iteration=438 loss=0.24820465 accuracy=0.9166666666666666\n",
      "New set of weights found: iteration=445 loss=0.24329168 accuracy=0.9133333333333333\n",
      "New set of weights found: iteration=448 loss=0.24230328 accuracy=0.9133333333333333\n",
      "New set of weights found: iteration=450 loss=0.23417008 accuracy=0.9166666666666666\n",
      "New set of weights found: iteration=455 loss=0.23205231 accuracy=0.9166666666666666\n",
      "New set of weights found: iteration=469 loss=0.23094516 accuracy=0.9233333333333333\n",
      "New set of weights found: iteration=472 loss=0.22838953 accuracy=0.9266666666666666\n",
      "New set of weights found: iteration=475 loss=0.22613904 accuracy=0.9266666666666666\n",
      "New set of weights found: iteration=480 loss=0.22211365 accuracy=0.9166666666666666\n",
      "New set of weights found: iteration=481 loss=0.2193545 accuracy=0.93\n",
      "New set of weights found: iteration=487 loss=0.2154718 accuracy=0.9266666666666666\n",
      "New set of weights found: iteration=498 loss=0.21299875 accuracy=0.9233333333333333\n",
      "New set of weights found: iteration=501 loss=0.20989469 accuracy=0.93\n",
      "New set of weights found: iteration=509 loss=0.20926426 accuracy=0.9233333333333333\n",
      "New set of weights found: iteration=510 loss=0.20882976 accuracy=0.93\n",
      "New set of weights found: iteration=514 loss=0.20601101 accuracy=0.9266666666666666\n",
      "New set of weights found: iteration=528 loss=0.20553221 accuracy=0.9266666666666666\n",
      "New set of weights found: iteration=529 loss=0.20413211 accuracy=0.93\n",
      "New set of weights found: iteration=530 loss=0.2015036 accuracy=0.9233333333333333\n",
      "New set of weights found: iteration=533 loss=0.20110507 accuracy=0.9166666666666666\n",
      "New set of weights found: iteration=535 loss=0.20007952 accuracy=0.92\n",
      "New set of weights found: iteration=547 loss=0.19902003 accuracy=0.9266666666666666\n",
      "New set of weights found: iteration=554 loss=0.19550033 accuracy=0.93\n",
      "New set of weights found: iteration=557 loss=0.19474651 accuracy=0.93\n",
      "New set of weights found: iteration=560 loss=0.19352236 accuracy=0.93\n",
      "New set of weights found: iteration=565 loss=0.19172859 accuracy=0.9266666666666666\n",
      "New set of weights found: iteration=569 loss=0.1915822 accuracy=0.9333333333333333\n",
      "New set of weights found: iteration=603 loss=0.19142929 accuracy=0.93\n",
      "New set of weights found: iteration=605 loss=0.19096579 accuracy=0.9266666666666666\n",
      "New set of weights found: iteration=607 loss=0.18990678 accuracy=0.93\n",
      "New set of weights found: iteration=609 loss=0.18958946 accuracy=0.93\n",
      "New set of weights found: iteration=615 loss=0.18710807 accuracy=0.93\n",
      "New set of weights found: iteration=629 loss=0.18630145 accuracy=0.93\n",
      "New set of weights found: iteration=634 loss=0.18517013 accuracy=0.9333333333333333\n",
      "New set of weights found: iteration=641 loss=0.18454303 accuracy=0.9333333333333333\n",
      "New set of weights found: iteration=644 loss=0.18227336 accuracy=0.9333333333333333\n",
      "New set of weights found: iteration=683 loss=0.18212597 accuracy=0.93\n",
      "New set of weights found: iteration=688 loss=0.18174428 accuracy=0.93\n",
      "New set of weights found: iteration=693 loss=0.1807487 accuracy=0.9366666666666666\n",
      "New set of weights found: iteration=731 loss=0.18047366 accuracy=0.93\n",
      "New set of weights found: iteration=735 loss=0.17885923 accuracy=0.9333333333333333\n",
      "New set of weights found: iteration=791 loss=0.17883624 accuracy=0.93\n",
      "New set of weights found: iteration=798 loss=0.17835172 accuracy=0.93\n",
      "New set of weights found: iteration=819 loss=0.17831093 accuracy=0.9333333333333333\n",
      "New set of weights found: iteration=830 loss=0.17830965 accuracy=0.9366666666666666\n",
      "New set of weights found: iteration=838 loss=0.1782495 accuracy=0.93\n",
      "New set of weights found: iteration=853 loss=0.17758474 accuracy=0.9266666666666666\n",
      "New set of weights found: iteration=886 loss=0.17712723 accuracy=0.93\n",
      "New set of weights found: iteration=905 loss=0.17708783 accuracy=0.93\n",
      "New set of weights found: iteration=923 loss=0.176337 accuracy=0.93\n",
      "New set of weights found: iteration=954 loss=0.17623883 accuracy=0.9233333333333333\n",
      "New set of weights found: iteration=970 loss=0.17606245 accuracy=0.93\n",
      "New set of weights found: iteration=974 loss=0.17601211 accuracy=0.9266666666666666\n",
      "New set of weights found: iteration=976 loss=0.1759363 accuracy=0.93\n",
      "New set of weights found: iteration=985 loss=0.17578372 accuracy=0.9333333333333333\n",
      "New set of weights found: iteration=987 loss=0.17569079 accuracy=0.93\n",
      "New set of weights found: iteration=1006 loss=0.17559184 accuracy=0.93\n",
      "New set of weights found: iteration=1019 loss=0.17546163 accuracy=0.93\n",
      "New set of weights found: iteration=1023 loss=0.17523943 accuracy=0.93\n",
      "New set of weights found: iteration=1028 loss=0.17503957 accuracy=0.93\n",
      "New set of weights found: iteration=1029 loss=0.17482962 accuracy=0.9333333333333333\n",
      "New set of weights found: iteration=1031 loss=0.17446731 accuracy=0.93\n",
      "New set of weights found: iteration=1035 loss=0.17432952 accuracy=0.9266666666666666\n",
      "New set of weights found: iteration=1072 loss=0.17419623 accuracy=0.93\n",
      "New set of weights found: iteration=1115 loss=0.17408462 accuracy=0.93\n",
      "New set of weights found: iteration=1139 loss=0.17387657 accuracy=0.9333333333333333\n",
      "New set of weights found: iteration=1302 loss=0.17380224 accuracy=0.9366666666666666\n",
      "New set of weights found: iteration=1305 loss=0.17369777 accuracy=0.9266666666666666\n",
      "New set of weights found: iteration=1316 loss=0.1735763 accuracy=0.93\n",
      "New set of weights found: iteration=1320 loss=0.17346925 accuracy=0.9333333333333333\n",
      "New set of weights found: iteration=1371 loss=0.17343694 accuracy=0.9266666666666666\n",
      "New set of weights found: iteration=1427 loss=0.17336461 accuracy=0.93\n",
      "New set of weights found: iteration=1572 loss=0.17329748 accuracy=0.9333333333333333\n",
      "New set of weights found: iteration=1594 loss=0.17321472 accuracy=0.93\n",
      "New set of weights found: iteration=1707 loss=0.17315412 accuracy=0.9333333333333333\n",
      "New set of weights found: iteration=2134 loss=0.17314062 accuracy=0.93\n",
      "New set of weights found: iteration=2182 loss=0.17311394 accuracy=0.93\n",
      "New set of weights found: iteration=2332 loss=0.17307311 accuracy=0.93\n",
      "New set of weights found: iteration=2898 loss=0.17303786 accuracy=0.93\n",
      "New set of weights found: iteration=2919 loss=0.17297877 accuracy=0.9333333333333333\n",
      "New set of weights found: iteration=3100 loss=0.17295931 accuracy=0.93\n",
      "New set of weights found: iteration=3347 loss=0.17293642 accuracy=0.9333333333333333\n",
      "New set of weights found: iteration=3538 loss=0.1729343 accuracy=0.9333333333333333\n",
      "New set of weights found: iteration=5916 loss=0.17293371 accuracy=0.9333333333333333\n",
      "New set of weights found: iteration=6436 loss=0.17292625 accuracy=0.9333333333333333\n",
      "New set of weights found: iteration=7421 loss=0.1729063 accuracy=0.93\n",
      "New set of weights found: iteration=7648 loss=0.17289782 accuracy=0.9366666666666666\n",
      "New set of weights found: iteration=7748 loss=0.17283493 accuracy=0.9333333333333333\n",
      "New set of weights found: iteration=8964 loss=0.17282237 accuracy=0.9333333333333333\n",
      "New set of weights found: iteration=9140 loss=0.17282113 accuracy=0.9333333333333333\n",
      "New set of weights found: iteration=11858 loss=0.17281665 accuracy=0.9333333333333333\n",
      "New set of weights found: iteration=13860 loss=0.17281097 accuracy=0.93\n",
      "New set of weights found: iteration=23586 loss=0.17280021 accuracy=0.9333333333333333\n",
      "New set of weights found: iteration=26152 loss=0.17278932 accuracy=0.9333333333333333\n"
     ]
    }
   ],
   "source": [
    "# Create layer 1 with two inputs and three neurons\n",
    "dense1 = Layer_Dense(2, 3)\n",
    "activation1 = Activation_ReLU()\n",
    "\n",
    "# Create layer 2 with three inputs (because the last layer has three neurons worth of output) and three neurons\n",
    "dense2 = Layer_Dense(3, 3)\n",
    "activation2 = Activation_Softmax()\n",
    "\n",
    "\n",
    "loss_function = Loss_CategoricalCrossEntropy()\n",
    "\n",
    "lowest_loss = 9999999\n",
    "\n",
    "best_dense1_weights = dense1.weights.copy()\n",
    "best_dense1_biases = dense1.biases.copy()\n",
    "best_dense2_weights = dense2.weights.copy()\n",
    "best_dense2_biases = dense2.biases.copy()\n",
    "\n",
    "\n",
    "num_iterations = 100000\n",
    "\n",
    "for iteration in range(num_iterations):\n",
    "    # this is how we will randomly assign weights and biases for each iteration\n",
    "    dense1.weights += 0.05 * np.random.randn(2, 3)\n",
    "    dense1.biases += 0.05 * np.random.randn(1, 3)\n",
    "    dense2.weights += 0.05 * np.random.randn(3, 3)\n",
    "    dense2.biases += 0.05 * np.random.randn(1, 3)\n",
    "    \n",
    "    # then we need to train the network on those new random weights and biases\n",
    "    \n",
    "    dense1.forward(X)\n",
    "    activation1.forward(dense1.output)\n",
    "    dense2.forward(activation1.output)\n",
    "    activation2.forward(dense2.output)\n",
    "    \n",
    "    # then well calculate the loss\n",
    "    loss = loss_function.calculate(activation2.output, y)\n",
    "    \n",
    "    predictions = np.argmax(activation2.output, axis=1)\n",
    "    accuracy = np.mean(predictions==y)\n",
    "    \n",
    "    if loss < lowest_loss:\n",
    "        print(f'New set of weights found: {iteration=} {loss=} {accuracy=}')\n",
    "        \n",
    "        best_dense1_weights = dense1.weights.copy()\n",
    "        best_dense1_biases = dense1.biases.copy()\n",
    "        best_dense2_weights = dense2.weights.copy()\n",
    "        best_dense2_biases = dense2.biases.copy()\n",
    "        \n",
    "        lowest_loss = loss\n",
    "        \n",
    "    else:\n",
    "        dense1.weights = best_dense1_weights.copy()\n",
    "        dense1.biases = best_dense1_biases.copy()\n",
    "        dense2.weights = best_dense2_weights.copy()\n",
    "        dense2.biases = best_dense2_biases.copy()\n",
    "\n"
   ]
  },
  {
   "cell_type": "markdown",
   "metadata": {},
   "source": [
    "As we can see this method improves on the training significantly\n",
    "\n",
    "so is that it, have we just found a really easy way to train models?\n",
    "\n",
    "\n",
    "well... no not exactly\n",
    "\n",
    "lets see what happens when its not run on simple data that neatly fits into three groups, but instead on more complex spiral data"
   ]
  },
  {
   "cell_type": "code",
   "execution_count": 52,
   "metadata": {},
   "outputs": [
    {
     "data": {
      "image/png": "[encoded data removed]",
      "text/plain": [
       "<Figure size 432x288 with 1 Axes>"
      ]
     },
     "metadata": {
      "needs_background": "light"
     },
     "output_type": "display_data"
    }
   ],
   "source": [
    "# get the new spiral data\n",
    "X, y = spiral_data(samples=100, classes = 3)\n",
    "\n",
    "# display it\n",
    "plt.scatter(X[:, 0], X[:, 1], c=y, s=40, cmap='brg')\n",
    "plt.show()"
   ]
  },
  {
   "cell_type": "code",
   "execution_count": 53,
   "metadata": {},
   "outputs": [
    {
     "name": "stdout",
     "output_type": "stream",
     "text": [
      "New set of weights found: iteration=0 loss=1.0986902 accuracy=0.3333333333333333\n",
      "New set of weights found: iteration=7 loss=1.0984832 accuracy=0.3333333333333333\n",
      "New set of weights found: iteration=12 loss=1.0974274 accuracy=0.3333333333333333\n",
      "New set of weights found: iteration=17 loss=1.0971342 accuracy=0.3933333333333333\n",
      "New set of weights found: iteration=23 loss=1.0963839 accuracy=0.4166666666666667\n",
      "New set of weights found: iteration=26 loss=1.0954869 accuracy=0.3933333333333333\n",
      "New set of weights found: iteration=29 loss=1.0953835 accuracy=0.38333333333333336\n",
      "New set of weights found: iteration=30 loss=1.0943676 accuracy=0.39\n",
      "New set of weights found: iteration=40 loss=1.093958 accuracy=0.35\n",
      "New set of weights found: iteration=50 loss=1.09303 accuracy=0.39\n",
      "New set of weights found: iteration=51 loss=1.0924406 accuracy=0.4166666666666667\n",
      "New set of weights found: iteration=57 loss=1.0919123 accuracy=0.36666666666666664\n",
      "New set of weights found: iteration=58 loss=1.0912153 accuracy=0.41333333333333333\n",
      "New set of weights found: iteration=65 loss=1.0911133 accuracy=0.39666666666666667\n",
      "New set of weights found: iteration=71 loss=1.0897486 accuracy=0.36\n",
      "New set of weights found: iteration=72 loss=1.0884458 accuracy=0.39666666666666667\n",
      "New set of weights found: iteration=75 loss=1.0873882 accuracy=0.38333333333333336\n",
      "New set of weights found: iteration=77 loss=1.0863246 accuracy=0.37333333333333335\n",
      "New set of weights found: iteration=80 loss=1.0855445 accuracy=0.39666666666666667\n",
      "New set of weights found: iteration=86 loss=1.0843707 accuracy=0.42333333333333334\n",
      "New set of weights found: iteration=92 loss=1.0833306 accuracy=0.42\n",
      "New set of weights found: iteration=99 loss=1.083067 accuracy=0.39666666666666667\n",
      "New set of weights found: iteration=103 loss=1.0826398 accuracy=0.4166666666666667\n",
      "New set of weights found: iteration=119 loss=1.0819409 accuracy=0.4\n",
      "New set of weights found: iteration=121 loss=1.0814356 accuracy=0.4066666666666667\n",
      "New set of weights found: iteration=122 loss=1.0807977 accuracy=0.4166666666666667\n",
      "New set of weights found: iteration=125 loss=1.0807612 accuracy=0.3933333333333333\n",
      "New set of weights found: iteration=131 loss=1.0798775 accuracy=0.4033333333333333\n",
      "New set of weights found: iteration=137 loss=1.0790144 accuracy=0.41\n",
      "New set of weights found: iteration=141 loss=1.0784748 accuracy=0.41\n",
      "New set of weights found: iteration=142 loss=1.0779254 accuracy=0.4066666666666667\n",
      "New set of weights found: iteration=155 loss=1.0774404 accuracy=0.4\n",
      "New set of weights found: iteration=168 loss=1.0773757 accuracy=0.4033333333333333\n",
      "New set of weights found: iteration=173 loss=1.0772054 accuracy=0.42333333333333334\n",
      "New set of weights found: iteration=176 loss=1.0768869 accuracy=0.43\n",
      "New set of weights found: iteration=196 loss=1.0764483 accuracy=0.42333333333333334\n",
      "New set of weights found: iteration=313 loss=1.0763314 accuracy=0.4266666666666667\n",
      "New set of weights found: iteration=323 loss=1.0762856 accuracy=0.4166666666666667\n",
      "New set of weights found: iteration=334 loss=1.0762508 accuracy=0.4066666666666667\n",
      "New set of weights found: iteration=410 loss=1.0761772 accuracy=0.43333333333333335\n",
      "New set of weights found: iteration=451 loss=1.0760959 accuracy=0.41333333333333333\n",
      "New set of weights found: iteration=482 loss=1.0757793 accuracy=0.4033333333333333\n",
      "New set of weights found: iteration=497 loss=1.0755799 accuracy=0.4166666666666667\n",
      "New set of weights found: iteration=500 loss=1.075539 accuracy=0.41333333333333333\n",
      "New set of weights found: iteration=606 loss=1.0753711 accuracy=0.39666666666666667\n",
      "New set of weights found: iteration=609 loss=1.0753108 accuracy=0.4166666666666667\n",
      "New set of weights found: iteration=636 loss=1.075118 accuracy=0.4066666666666667\n",
      "New set of weights found: iteration=707 loss=1.0750942 accuracy=0.42333333333333334\n",
      "New set of weights found: iteration=765 loss=1.0749518 accuracy=0.4166666666666667\n",
      "New set of weights found: iteration=771 loss=1.0747044 accuracy=0.4033333333333333\n",
      "New set of weights found: iteration=781 loss=1.0747018 accuracy=0.43666666666666665\n",
      "New set of weights found: iteration=786 loss=1.0743952 accuracy=0.42\n",
      "New set of weights found: iteration=795 loss=1.0743092 accuracy=0.42333333333333334\n",
      "New set of weights found: iteration=886 loss=1.0742918 accuracy=0.43333333333333335\n",
      "New set of weights found: iteration=1113 loss=1.0742817 accuracy=0.4266666666666667\n",
      "New set of weights found: iteration=1136 loss=1.0742279 accuracy=0.4066666666666667\n",
      "New set of weights found: iteration=1409 loss=1.0740173 accuracy=0.42\n",
      "New set of weights found: iteration=1512 loss=1.073939 accuracy=0.41\n",
      "New set of weights found: iteration=1655 loss=1.0738816 accuracy=0.42\n",
      "New set of weights found: iteration=1687 loss=1.0738358 accuracy=0.4266666666666667\n",
      "New set of weights found: iteration=1698 loss=1.0738002 accuracy=0.41\n",
      "New set of weights found: iteration=2086 loss=1.073549 accuracy=0.41\n",
      "New set of weights found: iteration=4620 loss=1.0735248 accuracy=0.38666666666666666\n",
      "New set of weights found: iteration=4702 loss=1.0734304 accuracy=0.41333333333333333\n",
      "New set of weights found: iteration=5716 loss=1.0733277 accuracy=0.4033333333333333\n",
      "New set of weights found: iteration=10495 loss=1.0732473 accuracy=0.4066666666666667\n",
      "New set of weights found: iteration=21901 loss=1.0732071 accuracy=0.4033333333333333\n",
      "New set of weights found: iteration=44675 loss=1.0731978 accuracy=0.4033333333333333\n"
     ]
    }
   ],
   "source": [
    "# Create layer 1 with two inputs and three neurons\n",
    "dense1 = Layer_Dense(2, 3)\n",
    "activation1 = Activation_ReLU()\n",
    "\n",
    "# Create layer 2 with three inputs (because the last layer has three neurons worth of output) and three neurons\n",
    "dense2 = Layer_Dense(3, 3)\n",
    "activation2 = Activation_Softmax()\n",
    "\n",
    "\n",
    "loss_function = Loss_CategoricalCrossEntropy()\n",
    "\n",
    "lowest_loss = 9999999\n",
    "\n",
    "best_dense1_weights = dense1.weights.copy()\n",
    "best_dense1_biases = dense1.biases.copy()\n",
    "best_dense2_weights = dense2.weights.copy()\n",
    "best_dense2_biases = dense2.biases.copy()\n",
    "\n",
    "\n",
    "num_iterations = 100000\n",
    "\n",
    "for iteration in range(num_iterations):\n",
    "    # this is how we will randomly assign weights and biases for each iteration\n",
    "    dense1.weights += 0.05 * np.random.randn(2, 3)\n",
    "    dense1.biases += 0.05 * np.random.randn(1, 3)\n",
    "    dense2.weights += 0.05 * np.random.randn(3, 3)\n",
    "    dense2.biases += 0.05 * np.random.randn(1, 3)\n",
    "    \n",
    "    # then we need to train the network on those new random weights and biases\n",
    "    \n",
    "    dense1.forward(X)\n",
    "    activation1.forward(dense1.output)\n",
    "    dense2.forward(activation1.output)\n",
    "    activation2.forward(dense2.output)\n",
    "    \n",
    "    # then well calculate the loss\n",
    "    loss = loss_function.calculate(activation2.output, y)\n",
    "    \n",
    "    predictions = np.argmax(activation2.output, axis=1)\n",
    "    accuracy = np.mean(predictions==y)\n",
    "    \n",
    "    if loss < lowest_loss:\n",
    "        print(f'New set of weights found: {iteration=} {loss=} {accuracy=}')\n",
    "        \n",
    "        best_dense1_weights = dense1.weights.copy()\n",
    "        best_dense1_biases = dense1.biases.copy()\n",
    "        best_dense2_weights = dense2.weights.copy()\n",
    "        best_dense2_biases = dense2.biases.copy()\n",
    "        \n",
    "        lowest_loss = loss\n",
    "        \n",
    "    else:\n",
    "        dense1.weights = best_dense1_weights.copy()\n",
    "        dense1.biases = best_dense1_biases.copy()\n",
    "        dense2.weights = best_dense2_weights.copy()\n",
    "        dense2.biases = best_dense2_biases.copy()\n",
    "\n"
   ]
  },
  {
   "cell_type": "markdown",
   "metadata": {},
   "source": [
    "As we can see the accuracy for this model isnt even at 50% after 100,000 iterations and the loss is still pretty high\n",
    "\n",
    "added to that, this dataset isnt even very complex as far as the usual datasets fed into machine learning models go\n",
    "\n",
    "so now we turn to calculus..."
   ]
  }
 ],
 "metadata": {
  "kernelspec": {
   "display_name": "Python 3.9.12 ('machine-learning')",
   "language": "python",
   "name": "python3"
  },
  "language_info": {
   "codemirror_mode": {
    "name": "ipython",
    "version": 3
   },
   "file_extension": ".py",
   "mimetype": "text/x-python",
   "name": "python",
   "nbconvert_exporter": "python",
   "pygments_lexer": "ipython3",
   "version": "3.9.12"
  },
  "orig_nbformat": 4,
  "vscode": {
   "interpreter": {
    "hash": "f300df09785c11f57e67f9790cb93d920e95910cd126bded9fe0b8adbc875f55"
   }
  }
 },
 "nbformat": 4,
 "nbformat_minor": 2
}
